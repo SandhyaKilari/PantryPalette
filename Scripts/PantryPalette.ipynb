{
 "cells": [
  {
   "cell_type": "markdown",
   "id": "90c5f1d1-db55-4540-9c49-a210df07319f",
   "metadata": {},
   "source": [
    "<center><h1>PantryPalette: Your Ingredient-Inspired Recipe Guide</h1></center>"
   ]
  },
  {
   "cell_type": "markdown",
   "id": "ba96852a-3d1c-4025-b840-0216c111c5ae",
   "metadata": {},
   "source": [
    "# Problem Statement"
   ]
  },
  {
   "cell_type": "markdown",
   "id": "c1c01efc-ac5f-4663-ac93-26faa45cadd5",
   "metadata": {},
   "source": [
    "Every day, households struggle with unused ingredients in their kitchens, often leading to food waste due\n",
    "to a lack of inspiration or knowledge on how to use them effectively. Many individuals resort to takeout\n",
    "or repetitive meals, simply because they don’t know what to cook with the ingredients they already have.\n",
    "\n",
    "\n",
    "Meanwhile, traditional recipe search methods require manual browsing through extensive databases,\n",
    "leading to time-consuming and frustrating experiences. Users with dietary restrictions, allergies, or\n",
    "cultural food preferences face an additional challenge in finding recipes that align with their needs.\n",
    "\n",
    "PantryPalette is designed to solve this problem by offering a seamless, ingredient-based recipe discovery\n",
    "experience that helps users maximize their groceries, reduce food waste, and discover new meal ideas\n",
    "with ease."
   ]
  },
  {
   "cell_type": "markdown",
   "id": "0eede9b6",
   "metadata": {},
   "source": [
    "# Purpose"
   ]
  },
  {
   "cell_type": "markdown",
   "id": "f4adf9de",
   "metadata": {},
   "source": [
    "The purpose of the MLOps project is to develop an end-to-end data science solution that is usable by someone with no technical knowledge. \n",
    "\n",
    "It must include the following components\n",
    "- A process map built which documents the process\n",
    "- Data ingested from an online source\n",
    "- A data repository and model repository\n",
    "- A predictive model built off the data\n",
    "- The model predictions\n",
    "\n",
    "  a. Put into a Streamlit application\n",
    "\n",
    "  b. Via a Docker deployment\n",
    "\n",
    "  c. Which is accessible to users\n",
    "  \n",
    "- A model monitoring dashboard built\n",
    "- Documentation for the model process and risks with the production\n",
    "\n",
    "The purpose is not to have a complex model. It is meant to have a simpler model that works! All of this is to be done in teams of 2, along with individual users. Both the modeling teams and users will take part in the presentations"
   ]
  },
  {
   "cell_type": "markdown",
   "id": "8cc49dbf-028f-4eca-8dfe-d6d7248d171c",
   "metadata": {},
   "source": [
    "# Workflow"
   ]
  },
  {
   "cell_type": "markdown",
   "id": "061cd67b-f867-4d84-842c-2ac1282c5496",
   "metadata": {},
   "source": [
    "```mermaid\n",
    "graph TD;\n",
    "    A[User Inputs Ingredients] --> B[Preprocessing]\n",
    "    B --> C[Tokenization & Standardization]\n",
    "    C --> D[Feature Engineering]\n",
    "    D --> E[TF-IDF Vectorization]\n",
    "    E --> F[Cosine Similarity Calculation]\n",
    "    F --> G[Retrieve Relevant Recipes]\n",
    "    G --> H[Rank Recipes Based on Similarity]\n",
    "    H --> I[Provide Alternative Ingredient Suggestions]\n",
    "    I --> J[Display Recipes with Ingredients & Instructions]"
   ]
  },
  {
   "cell_type": "markdown",
   "id": "912886b7-d084-4964-820e-78328eadc0f1",
   "metadata": {},
   "source": [
    "# Implementation"
   ]
  },
  {
   "cell_type": "markdown",
   "id": "bbc0044d-f7c5-4eca-88c5-c3fc48640870",
   "metadata": {},
   "source": [
    "## Data Collection and Ingestion\n",
    "\n",
    "- Get RecipeNLG data (static data) + Spoonacular API (dynamic data)"
   ]
  },
  {
   "cell_type": "code",
   "execution_count": 1,
   "id": "a96d1b3c",
   "metadata": {},
   "outputs": [],
   "source": [
    "import pandas as pd"
   ]
  },
  {
   "cell_type": "markdown",
   "id": "b6086d10-2a06-49f1-9e2b-8d0aa6d45d7d",
   "metadata": {},
   "source": [
    "### Static Data Collection (RecipeNLG Dataset)\n",
    "\n",
    "- Get RecipeNLG data (static data)"
   ]
  },
  {
   "cell_type": "code",
   "execution_count": 2,
   "id": "aab5e440",
   "metadata": {},
   "outputs": [],
   "source": [
    "receipenlg = pd.read_csv(\"../dataset/RecipeNLG_dataset.csv\")"
   ]
  },
  {
   "cell_type": "code",
   "execution_count": 3,
   "id": "49877b66",
   "metadata": {},
   "outputs": [
    {
     "data": {
      "text/plain": [
       "(2231142, 7)"
      ]
     },
     "execution_count": 3,
     "metadata": {},
     "output_type": "execute_result"
    }
   ],
   "source": [
    "receipenlg.shape"
   ]
  },
  {
   "cell_type": "code",
   "execution_count": 4,
   "id": "128b8636-7baa-4d34-9cbc-2237bea9c2fe",
   "metadata": {},
   "outputs": [
    {
     "data": {
      "application/vnd.microsoft.datawrangler.viewer.v0+json": {
       "columns": [
        {
         "name": "index",
         "rawType": "int64",
         "type": "integer"
        },
        {
         "name": "Unnamed: 0",
         "rawType": "int64",
         "type": "integer"
        },
        {
         "name": "title",
         "rawType": "object",
         "type": "string"
        },
        {
         "name": "ingredients",
         "rawType": "object",
         "type": "string"
        },
        {
         "name": "directions",
         "rawType": "object",
         "type": "string"
        },
        {
         "name": "link",
         "rawType": "object",
         "type": "string"
        },
        {
         "name": "source",
         "rawType": "object",
         "type": "string"
        },
        {
         "name": "NER",
         "rawType": "object",
         "type": "string"
        }
       ],
       "conversionMethod": "pd.DataFrame",
       "ref": "d4efb5ad-cfef-45e7-b834-0fb4716b5fc1",
       "rows": [
        [
         "0",
         "0",
         "No-Bake Nut Cookies",
         "[\"1 c. firmly packed brown sugar\", \"1/2 c. evaporated milk\", \"1/2 tsp. vanilla\", \"1/2 c. broken nuts (pecans)\", \"2 Tbsp. butter or margarine\", \"3 1/2 c. bite size shredded rice biscuits\"]",
         "[\"In a heavy 2-quart saucepan, mix brown sugar, nuts, evaporated milk and butter or margarine.\", \"Stir over medium heat until mixture bubbles all over top.\", \"Boil and stir 5 minutes more. Take off heat.\", \"Stir in vanilla and cereal; mix well.\", \"Using 2 teaspoons, drop and shape into 30 clusters on wax paper.\", \"Let stand until firm, about 30 minutes.\"]",
         "www.cookbooks.com/Recipe-Details.aspx?id=44874",
         "Gathered",
         "[\"brown sugar\", \"milk\", \"vanilla\", \"nuts\", \"butter\", \"bite size shredded rice biscuits\"]"
        ],
        [
         "1",
         "1",
         "Jewell Ball'S Chicken",
         "[\"1 small jar chipped beef, cut up\", \"4 boned chicken breasts\", \"1 can cream of mushroom soup\", \"1 carton sour cream\"]",
         "[\"Place chipped beef on bottom of baking dish.\", \"Place chicken on top of beef.\", \"Mix soup and cream together; pour over chicken. Bake, uncovered, at 275\\u00b0 for 3 hours.\"]",
         "www.cookbooks.com/Recipe-Details.aspx?id=699419",
         "Gathered",
         "[\"beef\", \"chicken breasts\", \"cream of mushroom soup\", \"sour cream\"]"
        ],
        [
         "2",
         "2",
         "Creamy Corn",
         "[\"2 (16 oz.) pkg. frozen corn\", \"1 (8 oz.) pkg. cream cheese, cubed\", \"1/3 c. butter, cubed\", \"1/2 tsp. garlic powder\", \"1/2 tsp. salt\", \"1/4 tsp. pepper\"]",
         "[\"In a slow cooker, combine all ingredients. Cover and cook on low for 4 hours or until heated through and cheese is melted. Stir well before serving. Yields 6 servings.\"]",
         "www.cookbooks.com/Recipe-Details.aspx?id=10570",
         "Gathered",
         "[\"frozen corn\", \"cream cheese\", \"butter\", \"garlic powder\", \"salt\", \"pepper\"]"
        ],
        [
         "3",
         "3",
         "Chicken Funny",
         "[\"1 large whole chicken\", \"2 (10 1/2 oz.) cans chicken gravy\", \"1 (10 1/2 oz.) can cream of mushroom soup\", \"1 (6 oz.) box Stove Top stuffing\", \"4 oz. shredded cheese\"]",
         "[\"Boil and debone chicken.\", \"Put bite size pieces in average size square casserole dish.\", \"Pour gravy and cream of mushroom soup over chicken; level.\", \"Make stuffing according to instructions on box (do not make too moist).\", \"Put stuffing on top of chicken and gravy; level.\", \"Sprinkle shredded cheese on top and bake at 350\\u00b0 for approximately 20 minutes or until golden and bubbly.\"]",
         "www.cookbooks.com/Recipe-Details.aspx?id=897570",
         "Gathered",
         "[\"chicken\", \"chicken gravy\", \"cream of mushroom soup\", \"shredded cheese\"]"
        ],
        [
         "4",
         "4",
         "Reeses Cups(Candy)  ",
         "[\"1 c. peanut butter\", \"3/4 c. graham cracker crumbs\", \"1 c. melted butter\", \"1 lb. (3 1/2 c.) powdered sugar\", \"1 large pkg. chocolate chips\"]",
         "[\"Combine first four ingredients and press in 13 x 9-inch ungreased pan.\", \"Melt chocolate chips and spread over mixture. Refrigerate for about 20 minutes and cut into pieces before chocolate gets hard.\", \"Keep in refrigerator.\"]",
         "www.cookbooks.com/Recipe-Details.aspx?id=659239",
         "Gathered",
         "[\"peanut butter\", \"graham cracker crumbs\", \"butter\", \"powdered sugar\", \"chocolate chips\"]"
        ]
       ],
       "shape": {
        "columns": 7,
        "rows": 5
       }
      },
      "text/html": [
       "<div>\n",
       "<style scoped>\n",
       "    .dataframe tbody tr th:only-of-type {\n",
       "        vertical-align: middle;\n",
       "    }\n",
       "\n",
       "    .dataframe tbody tr th {\n",
       "        vertical-align: top;\n",
       "    }\n",
       "\n",
       "    .dataframe thead th {\n",
       "        text-align: right;\n",
       "    }\n",
       "</style>\n",
       "<table border=\"1\" class=\"dataframe\">\n",
       "  <thead>\n",
       "    <tr style=\"text-align: right;\">\n",
       "      <th></th>\n",
       "      <th>Unnamed: 0</th>\n",
       "      <th>title</th>\n",
       "      <th>ingredients</th>\n",
       "      <th>directions</th>\n",
       "      <th>link</th>\n",
       "      <th>source</th>\n",
       "      <th>NER</th>\n",
       "    </tr>\n",
       "  </thead>\n",
       "  <tbody>\n",
       "    <tr>\n",
       "      <th>0</th>\n",
       "      <td>0</td>\n",
       "      <td>No-Bake Nut Cookies</td>\n",
       "      <td>[\"1 c. firmly packed brown sugar\", \"1/2 c. eva...</td>\n",
       "      <td>[\"In a heavy 2-quart saucepan, mix brown sugar...</td>\n",
       "      <td>www.cookbooks.com/Recipe-Details.aspx?id=44874</td>\n",
       "      <td>Gathered</td>\n",
       "      <td>[\"brown sugar\", \"milk\", \"vanilla\", \"nuts\", \"bu...</td>\n",
       "    </tr>\n",
       "    <tr>\n",
       "      <th>1</th>\n",
       "      <td>1</td>\n",
       "      <td>Jewell Ball'S Chicken</td>\n",
       "      <td>[\"1 small jar chipped beef, cut up\", \"4 boned ...</td>\n",
       "      <td>[\"Place chipped beef on bottom of baking dish....</td>\n",
       "      <td>www.cookbooks.com/Recipe-Details.aspx?id=699419</td>\n",
       "      <td>Gathered</td>\n",
       "      <td>[\"beef\", \"chicken breasts\", \"cream of mushroom...</td>\n",
       "    </tr>\n",
       "    <tr>\n",
       "      <th>2</th>\n",
       "      <td>2</td>\n",
       "      <td>Creamy Corn</td>\n",
       "      <td>[\"2 (16 oz.) pkg. frozen corn\", \"1 (8 oz.) pkg...</td>\n",
       "      <td>[\"In a slow cooker, combine all ingredients. C...</td>\n",
       "      <td>www.cookbooks.com/Recipe-Details.aspx?id=10570</td>\n",
       "      <td>Gathered</td>\n",
       "      <td>[\"frozen corn\", \"cream cheese\", \"butter\", \"gar...</td>\n",
       "    </tr>\n",
       "    <tr>\n",
       "      <th>3</th>\n",
       "      <td>3</td>\n",
       "      <td>Chicken Funny</td>\n",
       "      <td>[\"1 large whole chicken\", \"2 (10 1/2 oz.) cans...</td>\n",
       "      <td>[\"Boil and debone chicken.\", \"Put bite size pi...</td>\n",
       "      <td>www.cookbooks.com/Recipe-Details.aspx?id=897570</td>\n",
       "      <td>Gathered</td>\n",
       "      <td>[\"chicken\", \"chicken gravy\", \"cream of mushroo...</td>\n",
       "    </tr>\n",
       "    <tr>\n",
       "      <th>4</th>\n",
       "      <td>4</td>\n",
       "      <td>Reeses Cups(Candy)</td>\n",
       "      <td>[\"1 c. peanut butter\", \"3/4 c. graham cracker ...</td>\n",
       "      <td>[\"Combine first four ingredients and press in ...</td>\n",
       "      <td>www.cookbooks.com/Recipe-Details.aspx?id=659239</td>\n",
       "      <td>Gathered</td>\n",
       "      <td>[\"peanut butter\", \"graham cracker crumbs\", \"bu...</td>\n",
       "    </tr>\n",
       "  </tbody>\n",
       "</table>\n",
       "</div>"
      ],
      "text/plain": [
       "   Unnamed: 0                  title  \\\n",
       "0           0    No-Bake Nut Cookies   \n",
       "1           1  Jewell Ball'S Chicken   \n",
       "2           2            Creamy Corn   \n",
       "3           3          Chicken Funny   \n",
       "4           4   Reeses Cups(Candy)     \n",
       "\n",
       "                                         ingredients  \\\n",
       "0  [\"1 c. firmly packed brown sugar\", \"1/2 c. eva...   \n",
       "1  [\"1 small jar chipped beef, cut up\", \"4 boned ...   \n",
       "2  [\"2 (16 oz.) pkg. frozen corn\", \"1 (8 oz.) pkg...   \n",
       "3  [\"1 large whole chicken\", \"2 (10 1/2 oz.) cans...   \n",
       "4  [\"1 c. peanut butter\", \"3/4 c. graham cracker ...   \n",
       "\n",
       "                                          directions  \\\n",
       "0  [\"In a heavy 2-quart saucepan, mix brown sugar...   \n",
       "1  [\"Place chipped beef on bottom of baking dish....   \n",
       "2  [\"In a slow cooker, combine all ingredients. C...   \n",
       "3  [\"Boil and debone chicken.\", \"Put bite size pi...   \n",
       "4  [\"Combine first four ingredients and press in ...   \n",
       "\n",
       "                                              link    source  \\\n",
       "0   www.cookbooks.com/Recipe-Details.aspx?id=44874  Gathered   \n",
       "1  www.cookbooks.com/Recipe-Details.aspx?id=699419  Gathered   \n",
       "2   www.cookbooks.com/Recipe-Details.aspx?id=10570  Gathered   \n",
       "3  www.cookbooks.com/Recipe-Details.aspx?id=897570  Gathered   \n",
       "4  www.cookbooks.com/Recipe-Details.aspx?id=659239  Gathered   \n",
       "\n",
       "                                                 NER  \n",
       "0  [\"brown sugar\", \"milk\", \"vanilla\", \"nuts\", \"bu...  \n",
       "1  [\"beef\", \"chicken breasts\", \"cream of mushroom...  \n",
       "2  [\"frozen corn\", \"cream cheese\", \"butter\", \"gar...  \n",
       "3  [\"chicken\", \"chicken gravy\", \"cream of mushroo...  \n",
       "4  [\"peanut butter\", \"graham cracker crumbs\", \"bu...  "
      ]
     },
     "execution_count": 4,
     "metadata": {},
     "output_type": "execute_result"
    }
   ],
   "source": [
    "receipenlg.head()"
   ]
  },
  {
   "cell_type": "code",
   "execution_count": 5,
   "id": "f61acc5a",
   "metadata": {},
   "outputs": [],
   "source": [
    "# receipenlg = receipenlg.sample(n=10000, random_state=42).reset_index(drop=True)\n",
    "# receipenlg.shape"
   ]
  },
  {
   "cell_type": "code",
   "execution_count": 6,
   "id": "d8f4556f",
   "metadata": {},
   "outputs": [
    {
     "name": "stdout",
     "output_type": "stream",
     "text": [
      "<class 'pandas.core.frame.DataFrame'>\n",
      "RangeIndex: 2231142 entries, 0 to 2231141\n",
      "Data columns (total 7 columns):\n",
      " #   Column       Dtype \n",
      "---  ------       ----- \n",
      " 0   Unnamed: 0   int64 \n",
      " 1   title        object\n",
      " 2   ingredients  object\n",
      " 3   directions   object\n",
      " 4   link         object\n",
      " 5   source       object\n",
      " 6   NER          object\n",
      "dtypes: int64(1), object(6)\n",
      "memory usage: 119.2+ MB\n"
     ]
    }
   ],
   "source": [
    "receipenlg.info()"
   ]
  },
  {
   "cell_type": "code",
   "execution_count": 7,
   "id": "1671141d",
   "metadata": {},
   "outputs": [
    {
     "data": {
      "application/vnd.microsoft.datawrangler.viewer.v0+json": {
       "columns": [
        {
         "name": "index",
         "rawType": "int64",
         "type": "integer"
        },
        {
         "name": "title",
         "rawType": "object",
         "type": "string"
        },
        {
         "name": "ingredients",
         "rawType": "object",
         "type": "string"
        },
        {
         "name": "directions",
         "rawType": "object",
         "type": "string"
        }
       ],
       "conversionMethod": "pd.DataFrame",
       "ref": "67e1848c-bd59-41e9-bbba-7207320f133a",
       "rows": [
        [
         "0",
         "No-Bake Nut Cookies",
         "[\"1 c. firmly packed brown sugar\", \"1/2 c. evaporated milk\", \"1/2 tsp. vanilla\", \"1/2 c. broken nuts (pecans)\", \"2 Tbsp. butter or margarine\", \"3 1/2 c. bite size shredded rice biscuits\"]",
         "[\"In a heavy 2-quart saucepan, mix brown sugar, nuts, evaporated milk and butter or margarine.\", \"Stir over medium heat until mixture bubbles all over top.\", \"Boil and stir 5 minutes more. Take off heat.\", \"Stir in vanilla and cereal; mix well.\", \"Using 2 teaspoons, drop and shape into 30 clusters on wax paper.\", \"Let stand until firm, about 30 minutes.\"]"
        ],
        [
         "1",
         "Jewell Ball'S Chicken",
         "[\"1 small jar chipped beef, cut up\", \"4 boned chicken breasts\", \"1 can cream of mushroom soup\", \"1 carton sour cream\"]",
         "[\"Place chipped beef on bottom of baking dish.\", \"Place chicken on top of beef.\", \"Mix soup and cream together; pour over chicken. Bake, uncovered, at 275\\u00b0 for 3 hours.\"]"
        ],
        [
         "2",
         "Creamy Corn",
         "[\"2 (16 oz.) pkg. frozen corn\", \"1 (8 oz.) pkg. cream cheese, cubed\", \"1/3 c. butter, cubed\", \"1/2 tsp. garlic powder\", \"1/2 tsp. salt\", \"1/4 tsp. pepper\"]",
         "[\"In a slow cooker, combine all ingredients. Cover and cook on low for 4 hours or until heated through and cheese is melted. Stir well before serving. Yields 6 servings.\"]"
        ],
        [
         "3",
         "Chicken Funny",
         "[\"1 large whole chicken\", \"2 (10 1/2 oz.) cans chicken gravy\", \"1 (10 1/2 oz.) can cream of mushroom soup\", \"1 (6 oz.) box Stove Top stuffing\", \"4 oz. shredded cheese\"]",
         "[\"Boil and debone chicken.\", \"Put bite size pieces in average size square casserole dish.\", \"Pour gravy and cream of mushroom soup over chicken; level.\", \"Make stuffing according to instructions on box (do not make too moist).\", \"Put stuffing on top of chicken and gravy; level.\", \"Sprinkle shredded cheese on top and bake at 350\\u00b0 for approximately 20 minutes or until golden and bubbly.\"]"
        ],
        [
         "4",
         "Reeses Cups(Candy)  ",
         "[\"1 c. peanut butter\", \"3/4 c. graham cracker crumbs\", \"1 c. melted butter\", \"1 lb. (3 1/2 c.) powdered sugar\", \"1 large pkg. chocolate chips\"]",
         "[\"Combine first four ingredients and press in 13 x 9-inch ungreased pan.\", \"Melt chocolate chips and spread over mixture. Refrigerate for about 20 minutes and cut into pieces before chocolate gets hard.\", \"Keep in refrigerator.\"]"
        ]
       ],
       "shape": {
        "columns": 3,
        "rows": 5
       }
      },
      "text/html": [
       "<div>\n",
       "<style scoped>\n",
       "    .dataframe tbody tr th:only-of-type {\n",
       "        vertical-align: middle;\n",
       "    }\n",
       "\n",
       "    .dataframe tbody tr th {\n",
       "        vertical-align: top;\n",
       "    }\n",
       "\n",
       "    .dataframe thead th {\n",
       "        text-align: right;\n",
       "    }\n",
       "</style>\n",
       "<table border=\"1\" class=\"dataframe\">\n",
       "  <thead>\n",
       "    <tr style=\"text-align: right;\">\n",
       "      <th></th>\n",
       "      <th>title</th>\n",
       "      <th>ingredients</th>\n",
       "      <th>directions</th>\n",
       "    </tr>\n",
       "  </thead>\n",
       "  <tbody>\n",
       "    <tr>\n",
       "      <th>0</th>\n",
       "      <td>No-Bake Nut Cookies</td>\n",
       "      <td>[\"1 c. firmly packed brown sugar\", \"1/2 c. eva...</td>\n",
       "      <td>[\"In a heavy 2-quart saucepan, mix brown sugar...</td>\n",
       "    </tr>\n",
       "    <tr>\n",
       "      <th>1</th>\n",
       "      <td>Jewell Ball'S Chicken</td>\n",
       "      <td>[\"1 small jar chipped beef, cut up\", \"4 boned ...</td>\n",
       "      <td>[\"Place chipped beef on bottom of baking dish....</td>\n",
       "    </tr>\n",
       "    <tr>\n",
       "      <th>2</th>\n",
       "      <td>Creamy Corn</td>\n",
       "      <td>[\"2 (16 oz.) pkg. frozen corn\", \"1 (8 oz.) pkg...</td>\n",
       "      <td>[\"In a slow cooker, combine all ingredients. C...</td>\n",
       "    </tr>\n",
       "    <tr>\n",
       "      <th>3</th>\n",
       "      <td>Chicken Funny</td>\n",
       "      <td>[\"1 large whole chicken\", \"2 (10 1/2 oz.) cans...</td>\n",
       "      <td>[\"Boil and debone chicken.\", \"Put bite size pi...</td>\n",
       "    </tr>\n",
       "    <tr>\n",
       "      <th>4</th>\n",
       "      <td>Reeses Cups(Candy)</td>\n",
       "      <td>[\"1 c. peanut butter\", \"3/4 c. graham cracker ...</td>\n",
       "      <td>[\"Combine first four ingredients and press in ...</td>\n",
       "    </tr>\n",
       "  </tbody>\n",
       "</table>\n",
       "</div>"
      ],
      "text/plain": [
       "                   title                                        ingredients  \\\n",
       "0    No-Bake Nut Cookies  [\"1 c. firmly packed brown sugar\", \"1/2 c. eva...   \n",
       "1  Jewell Ball'S Chicken  [\"1 small jar chipped beef, cut up\", \"4 boned ...   \n",
       "2            Creamy Corn  [\"2 (16 oz.) pkg. frozen corn\", \"1 (8 oz.) pkg...   \n",
       "3          Chicken Funny  [\"1 large whole chicken\", \"2 (10 1/2 oz.) cans...   \n",
       "4   Reeses Cups(Candy)    [\"1 c. peanut butter\", \"3/4 c. graham cracker ...   \n",
       "\n",
       "                                          directions  \n",
       "0  [\"In a heavy 2-quart saucepan, mix brown sugar...  \n",
       "1  [\"Place chipped beef on bottom of baking dish....  \n",
       "2  [\"In a slow cooker, combine all ingredients. C...  \n",
       "3  [\"Boil and debone chicken.\", \"Put bite size pi...  \n",
       "4  [\"Combine first four ingredients and press in ...  "
      ]
     },
     "execution_count": 7,
     "metadata": {},
     "output_type": "execute_result"
    }
   ],
   "source": [
    "# Drop unnecessary columns\n",
    "receipenlg.drop(columns=[\"Unnamed: 0\", \"link\", \"source\", \"NER\"], inplace=True)\n",
    "receipenlg.head()"
   ]
  },
  {
   "cell_type": "code",
   "execution_count": 8,
   "id": "bd883622",
   "metadata": {},
   "outputs": [],
   "source": [
    "df_static = receipenlg.copy()"
   ]
  },
  {
   "cell_type": "markdown",
   "id": "41c78fb4-cb9c-47e9-bcf1-976086d9c0a2",
   "metadata": {},
   "source": [
    "### Data Ingestion\n",
    "\n",
    "-  (dynamic data)"
   ]
  },
  {
   "cell_type": "code",
   "execution_count": 9,
   "id": "a042cf20",
   "metadata": {},
   "outputs": [
    {
     "data": {
      "application/vnd.microsoft.datawrangler.viewer.v0+json": {
       "columns": [
        {
         "name": "index",
         "rawType": "int64",
         "type": "integer"
        },
        {
         "name": "image",
         "rawType": "object",
         "type": "string"
        },
        {
         "name": "title",
         "rawType": "object",
         "type": "string"
        },
        {
         "name": "description",
         "rawType": "object",
         "type": "string"
        },
        {
         "name": "total time",
         "rawType": "object",
         "type": "string"
        },
        {
         "name": "ingredients",
         "rawType": "object",
         "type": "string"
        },
        {
         "name": "instructions",
         "rawType": "object",
         "type": "string"
        }
       ],
       "conversionMethod": "pd.DataFrame",
       "ref": "9e9b42f1-fbe5-496a-8a87-395b2af9b1b8",
       "rows": [
        [
         "0",
         "https://pinchofyum.com/wp-content/uploads/Italian-Salad-1-Square-183x183.jpg",
         "Big Yummy Italian Salad",
         "I love a big Italian salad! Crisp romaine, salty salami and cheese, briney pepperoncini, and toasty garlic breadcrumbs. YUM!",
         "15 minutes",
         "pepperoncini italian season romain lettuc panko red onion chees provolon salami garlic powder pepperoncini brine parmesan chees",
         "['Prep Salad Stuff: Chop all your salad veggies, meat, cheese, etc.', 'Make Golden Crispy Garlic Panko: Mix panko, oil, and garlic powder in a bowl. Microwave for 1 minute, stir, and microwave again for 20-40 seconds until it’s nice and golden. (It’ll be hot! Don’t taste it yet.) Season with salt.', 'Toss with No-Recipe Dressing: Add all your salad stuff to a large bowl. Drizzle with oil, pepperoncini brine, Italian seasoning, salt and pepper. Toss to combine, taste, adjust, you know the drill. Finish by tossing those golden panko crispies in there! YUM!']"
        ],
        [
         "1",
         "https://pinchofyum.com/wp-content/uploads/Crispy-Rice-Salad-1-Square-183x183.jpg",
         "Crispy Rice Salad with Cucumbers and Herbs",
         "Paper-thin veggies, a shower of herbs, a pile of fried crispy red curry rice, and a limey garlicky vinaigrette all over top. This crispy rice salad is all I want to eat right now!",
         "30 minutes",
         "cornstarch cucumb jasmin rice ginger garlic brown sugar fish sauc lime juic shallot chili crisp cilantro red curri past peanut mint",
         "['Dressing: Blitz everything up in a blender or food processor to make this SUPER yummy, punchy sauce.', 'Crispy Rice: Toss the rice in a bowl with the oil and curry paste. If it’s not sticking together when you squeeze it, add the cornstarch and get your hands wet to mix it again (this happens if the rice is pre-cooked or several days old). Squeeze it into loose, squishy chunks and transfer to the air fryer in a single layer. Air fry at 400 for 7-9 minutes, until golden and crisped. (See Note 3 for alternative methods – I find the air fryer to be fastest and most convenient!)', 'You’re Done! Yum!\\xa0Break the crispy rice apart into little golden, delightful chunks. Toss with about half of the dressing and however many veggies you want. Garnish it with some peanuts and chili crisp if you want. I mean, honestly. Wow. This is so good.']"
        ],
        [
         "2",
         "https://pinchofyum.com/wp-content/uploads/Gochujang-Sauce-1-2-Square-183x183.jpg",
         "Incredible Gochujang Sauce",
         "This delightful, creamy, silky, incredible gochujang sauce is what I put on everything! Dipped with chicken, drizzled on a bowl, tossed in a salad – perfect in every way.",
         "5 minutes",
         "rice vinegar garlic soy sauc mayo gochujang sauc",
         "['Mix all ingredients together in a small bowl. Taste and adjust! I usually add a small pinch of salt because I love salt. You can also thin it out with a tablespoon of water so more of a drizzle if that’s what you’re going for!', 'Serve as a dip with grilled or air-fried chicken, a dressing for a creamy slaw, a spread on a burger – whatever floats your boat. It’s all so delicious.']"
        ],
        [
         "3",
         "https://pinchofyum.com/wp-content/uploads/Air-Fryer-Salmon-2-Square-183x183.jpg",
         "Ridiculously Good Air Fryer Salmon",
         "This air fryer salmon is TOO GOOD. Crisped and golden on the outside, buttery and juicy on the inside, and made in 15 minutes start to finish.",
         "13 minutes",
         "cornstarch chili powder brown sugar onion powder paprika garlic powder salmon",
         "['Prep the salmon: Remove the skin from your salmon, if it has skin. Pat with paper towels so the surface is mostly dry. Cut your salmon into cubes, 1 to 2 inches each (see photo).', 'Prep the spices: Mix the spices together in a small bowl.', 'Toss salmon with spices: Toss your salmon cubes in the spices and oil – I usually use my hands to mix it all together.', 'Air fry the salmon: Place your salmon pieces in the air fryer (I just dump them right in) and spread them out a bit so they’re not laying all over each other. Air fry at 400 degrees for 8 minutes!', 'You’re Done! Yum! At this point it should be textured and golden on the outside, and juicy and delicious on the inside. When you press each piece with a fork, they should easily flake / slip apart with a buttery, juicy texture inside. (You can do 6-7 minutes if you prefer more of a medium doneness.)']"
        ],
        [
         "4",
         "https://pinchofyum.com/wp-content/uploads/Two-Giant-Cookies-2-1024x1536-Square-183x183.jpg",
         "Two Huge Chocolate Chip Cookies",
         "Just two chocolate chip cookies – lightly crisp around the edge, and dense and buttery through the middle. They are thick enough to sink your teeth into and just really, really good.",
         "15 minutes",
         "cornstarch allpurpos flour brown sugar white sugar egg yolk chocol chip vanilla bake soda butter",
         "['Preheat the oven to 350 degrees.', 'Mix butter, sugars, vanilla, and egg yolk until combined.\\xa0', 'Stir in flour, cornstarch, baking soda, and salt. When a soft dough has formed, stir in the chocolate chips.', 'Roll the dough into two balls and place on a baking sheet – there should be plenty for two large cookies plus a little bit of dough for a snack. (You’re welcome.) You can add more chocolate chips to the top of the cookies if you want.', 'Bake for 10-12 minutes, depending on your oven temp and desired level of gooey cookie center.\\xa0', 'Rest the cookies for a few minutes so they settle down and solidify a bit –\\xa0 I set a timer for 10-15 minutes and just let them rest right on the pan. At that point they should be able to transfer to a plate, or maybe even held in your hand, for warm, delicious eating on the couch. Yum, yum, yum.']"
        ]
       ],
       "shape": {
        "columns": 6,
        "rows": 5
       }
      },
      "text/html": [
       "<div>\n",
       "<style scoped>\n",
       "    .dataframe tbody tr th:only-of-type {\n",
       "        vertical-align: middle;\n",
       "    }\n",
       "\n",
       "    .dataframe tbody tr th {\n",
       "        vertical-align: top;\n",
       "    }\n",
       "\n",
       "    .dataframe thead th {\n",
       "        text-align: right;\n",
       "    }\n",
       "</style>\n",
       "<table border=\"1\" class=\"dataframe\">\n",
       "  <thead>\n",
       "    <tr style=\"text-align: right;\">\n",
       "      <th></th>\n",
       "      <th>image</th>\n",
       "      <th>title</th>\n",
       "      <th>description</th>\n",
       "      <th>total time</th>\n",
       "      <th>ingredients</th>\n",
       "      <th>instructions</th>\n",
       "    </tr>\n",
       "  </thead>\n",
       "  <tbody>\n",
       "    <tr>\n",
       "      <th>0</th>\n",
       "      <td>https://pinchofyum.com/wp-content/uploads/Ital...</td>\n",
       "      <td>Big Yummy Italian Salad</td>\n",
       "      <td>I love a big Italian salad! Crisp romaine, sal...</td>\n",
       "      <td>15 minutes</td>\n",
       "      <td>pepperoncini italian season romain lettuc pank...</td>\n",
       "      <td>['Prep Salad Stuff: Chop all your salad veggie...</td>\n",
       "    </tr>\n",
       "    <tr>\n",
       "      <th>1</th>\n",
       "      <td>https://pinchofyum.com/wp-content/uploads/Cris...</td>\n",
       "      <td>Crispy Rice Salad with Cucumbers and Herbs</td>\n",
       "      <td>Paper-thin veggies, a shower of herbs, a pile ...</td>\n",
       "      <td>30 minutes</td>\n",
       "      <td>cornstarch cucumb jasmin rice ginger garlic br...</td>\n",
       "      <td>['Dressing: Blitz everything up in a blender o...</td>\n",
       "    </tr>\n",
       "    <tr>\n",
       "      <th>2</th>\n",
       "      <td>https://pinchofyum.com/wp-content/uploads/Goch...</td>\n",
       "      <td>Incredible Gochujang Sauce</td>\n",
       "      <td>This delightful, creamy, silky, incredible goc...</td>\n",
       "      <td>5 minutes</td>\n",
       "      <td>rice vinegar garlic soy sauc mayo gochujang sauc</td>\n",
       "      <td>['Mix all ingredients together in a small bowl...</td>\n",
       "    </tr>\n",
       "    <tr>\n",
       "      <th>3</th>\n",
       "      <td>https://pinchofyum.com/wp-content/uploads/Air-...</td>\n",
       "      <td>Ridiculously Good Air Fryer Salmon</td>\n",
       "      <td>This air fryer salmon is TOO GOOD. Crisped and...</td>\n",
       "      <td>13 minutes</td>\n",
       "      <td>cornstarch chili powder brown sugar onion powd...</td>\n",
       "      <td>['Prep the salmon: Remove the skin from your s...</td>\n",
       "    </tr>\n",
       "    <tr>\n",
       "      <th>4</th>\n",
       "      <td>https://pinchofyum.com/wp-content/uploads/Two-...</td>\n",
       "      <td>Two Huge Chocolate Chip Cookies</td>\n",
       "      <td>Just two chocolate chip cookies – lightly cris...</td>\n",
       "      <td>15 minutes</td>\n",
       "      <td>cornstarch allpurpos flour brown sugar white s...</td>\n",
       "      <td>['Preheat the oven to 350 degrees.', 'Mix butt...</td>\n",
       "    </tr>\n",
       "  </tbody>\n",
       "</table>\n",
       "</div>"
      ],
      "text/plain": [
       "                                               image  \\\n",
       "0  https://pinchofyum.com/wp-content/uploads/Ital...   \n",
       "1  https://pinchofyum.com/wp-content/uploads/Cris...   \n",
       "2  https://pinchofyum.com/wp-content/uploads/Goch...   \n",
       "3  https://pinchofyum.com/wp-content/uploads/Air-...   \n",
       "4  https://pinchofyum.com/wp-content/uploads/Two-...   \n",
       "\n",
       "                                        title  \\\n",
       "0                     Big Yummy Italian Salad   \n",
       "1  Crispy Rice Salad with Cucumbers and Herbs   \n",
       "2                  Incredible Gochujang Sauce   \n",
       "3          Ridiculously Good Air Fryer Salmon   \n",
       "4             Two Huge Chocolate Chip Cookies   \n",
       "\n",
       "                                         description  total time  \\\n",
       "0  I love a big Italian salad! Crisp romaine, sal...  15 minutes   \n",
       "1  Paper-thin veggies, a shower of herbs, a pile ...  30 minutes   \n",
       "2  This delightful, creamy, silky, incredible goc...   5 minutes   \n",
       "3  This air fryer salmon is TOO GOOD. Crisped and...  13 minutes   \n",
       "4  Just two chocolate chip cookies – lightly cris...  15 minutes   \n",
       "\n",
       "                                         ingredients  \\\n",
       "0  pepperoncini italian season romain lettuc pank...   \n",
       "1  cornstarch cucumb jasmin rice ginger garlic br...   \n",
       "2   rice vinegar garlic soy sauc mayo gochujang sauc   \n",
       "3  cornstarch chili powder brown sugar onion powd...   \n",
       "4  cornstarch allpurpos flour brown sugar white s...   \n",
       "\n",
       "                                        instructions  \n",
       "0  ['Prep Salad Stuff: Chop all your salad veggie...  \n",
       "1  ['Dressing: Blitz everything up in a blender o...  \n",
       "2  ['Mix all ingredients together in a small bowl...  \n",
       "3  ['Prep the salmon: Remove the skin from your s...  \n",
       "4  ['Preheat the oven to 350 degrees.', 'Mix butt...  "
      ]
     },
     "execution_count": 9,
     "metadata": {},
     "output_type": "execute_result"
    }
   ],
   "source": [
    "df_dynamic = pd.read_csv(\"../dataset/recipes.csv\")\n",
    "df_dynamic.head()"
   ]
  },
  {
   "cell_type": "code",
   "execution_count": 10,
   "id": "ae7cb2d4",
   "metadata": {},
   "outputs": [
    {
     "data": {
      "application/vnd.microsoft.datawrangler.viewer.v0+json": {
       "columns": [
        {
         "name": "index",
         "rawType": "int64",
         "type": "integer"
        },
        {
         "name": "title",
         "rawType": "object",
         "type": "string"
        },
        {
         "name": "ingredients",
         "rawType": "object",
         "type": "string"
        },
        {
         "name": "instructions",
         "rawType": "object",
         "type": "string"
        }
       ],
       "conversionMethod": "pd.DataFrame",
       "ref": "4f084d0e-25cf-4522-9ac9-3876ff7df3d5",
       "rows": [
        [
         "0",
         "Big Yummy Italian Salad",
         "pepperoncini italian season romain lettuc panko red onion chees provolon salami garlic powder pepperoncini brine parmesan chees",
         "['Prep Salad Stuff: Chop all your salad veggies, meat, cheese, etc.', 'Make Golden Crispy Garlic Panko: Mix panko, oil, and garlic powder in a bowl. Microwave for 1 minute, stir, and microwave again for 20-40 seconds until it’s nice and golden. (It’ll be hot! Don’t taste it yet.) Season with salt.', 'Toss with No-Recipe Dressing: Add all your salad stuff to a large bowl. Drizzle with oil, pepperoncini brine, Italian seasoning, salt and pepper. Toss to combine, taste, adjust, you know the drill. Finish by tossing those golden panko crispies in there! YUM!']"
        ],
        [
         "1",
         "Crispy Rice Salad with Cucumbers and Herbs",
         "cornstarch cucumb jasmin rice ginger garlic brown sugar fish sauc lime juic shallot chili crisp cilantro red curri past peanut mint",
         "['Dressing: Blitz everything up in a blender or food processor to make this SUPER yummy, punchy sauce.', 'Crispy Rice: Toss the rice in a bowl with the oil and curry paste. If it’s not sticking together when you squeeze it, add the cornstarch and get your hands wet to mix it again (this happens if the rice is pre-cooked or several days old). Squeeze it into loose, squishy chunks and transfer to the air fryer in a single layer. Air fry at 400 for 7-9 minutes, until golden and crisped. (See Note 3 for alternative methods – I find the air fryer to be fastest and most convenient!)', 'You’re Done! Yum!\\xa0Break the crispy rice apart into little golden, delightful chunks. Toss with about half of the dressing and however many veggies you want. Garnish it with some peanuts and chili crisp if you want. I mean, honestly. Wow. This is so good.']"
        ],
        [
         "2",
         "Incredible Gochujang Sauce",
         "rice vinegar garlic soy sauc mayo gochujang sauc",
         "['Mix all ingredients together in a small bowl. Taste and adjust! I usually add a small pinch of salt because I love salt. You can also thin it out with a tablespoon of water so more of a drizzle if that’s what you’re going for!', 'Serve as a dip with grilled or air-fried chicken, a dressing for a creamy slaw, a spread on a burger – whatever floats your boat. It’s all so delicious.']"
        ],
        [
         "3",
         "Ridiculously Good Air Fryer Salmon",
         "cornstarch chili powder brown sugar onion powder paprika garlic powder salmon",
         "['Prep the salmon: Remove the skin from your salmon, if it has skin. Pat with paper towels so the surface is mostly dry. Cut your salmon into cubes, 1 to 2 inches each (see photo).', 'Prep the spices: Mix the spices together in a small bowl.', 'Toss salmon with spices: Toss your salmon cubes in the spices and oil – I usually use my hands to mix it all together.', 'Air fry the salmon: Place your salmon pieces in the air fryer (I just dump them right in) and spread them out a bit so they’re not laying all over each other. Air fry at 400 degrees for 8 minutes!', 'You’re Done! Yum! At this point it should be textured and golden on the outside, and juicy and delicious on the inside. When you press each piece with a fork, they should easily flake / slip apart with a buttery, juicy texture inside. (You can do 6-7 minutes if you prefer more of a medium doneness.)']"
        ],
        [
         "4",
         "Two Huge Chocolate Chip Cookies",
         "cornstarch allpurpos flour brown sugar white sugar egg yolk chocol chip vanilla bake soda butter",
         "['Preheat the oven to 350 degrees.', 'Mix butter, sugars, vanilla, and egg yolk until combined.\\xa0', 'Stir in flour, cornstarch, baking soda, and salt. When a soft dough has formed, stir in the chocolate chips.', 'Roll the dough into two balls and place on a baking sheet – there should be plenty for two large cookies plus a little bit of dough for a snack. (You’re welcome.) You can add more chocolate chips to the top of the cookies if you want.', 'Bake for 10-12 minutes, depending on your oven temp and desired level of gooey cookie center.\\xa0', 'Rest the cookies for a few minutes so they settle down and solidify a bit –\\xa0 I set a timer for 10-15 minutes and just let them rest right on the pan. At that point they should be able to transfer to a plate, or maybe even held in your hand, for warm, delicious eating on the couch. Yum, yum, yum.']"
        ]
       ],
       "shape": {
        "columns": 3,
        "rows": 5
       }
      },
      "text/html": [
       "<div>\n",
       "<style scoped>\n",
       "    .dataframe tbody tr th:only-of-type {\n",
       "        vertical-align: middle;\n",
       "    }\n",
       "\n",
       "    .dataframe tbody tr th {\n",
       "        vertical-align: top;\n",
       "    }\n",
       "\n",
       "    .dataframe thead th {\n",
       "        text-align: right;\n",
       "    }\n",
       "</style>\n",
       "<table border=\"1\" class=\"dataframe\">\n",
       "  <thead>\n",
       "    <tr style=\"text-align: right;\">\n",
       "      <th></th>\n",
       "      <th>title</th>\n",
       "      <th>ingredients</th>\n",
       "      <th>instructions</th>\n",
       "    </tr>\n",
       "  </thead>\n",
       "  <tbody>\n",
       "    <tr>\n",
       "      <th>0</th>\n",
       "      <td>Big Yummy Italian Salad</td>\n",
       "      <td>pepperoncini italian season romain lettuc pank...</td>\n",
       "      <td>['Prep Salad Stuff: Chop all your salad veggie...</td>\n",
       "    </tr>\n",
       "    <tr>\n",
       "      <th>1</th>\n",
       "      <td>Crispy Rice Salad with Cucumbers and Herbs</td>\n",
       "      <td>cornstarch cucumb jasmin rice ginger garlic br...</td>\n",
       "      <td>['Dressing: Blitz everything up in a blender o...</td>\n",
       "    </tr>\n",
       "    <tr>\n",
       "      <th>2</th>\n",
       "      <td>Incredible Gochujang Sauce</td>\n",
       "      <td>rice vinegar garlic soy sauc mayo gochujang sauc</td>\n",
       "      <td>['Mix all ingredients together in a small bowl...</td>\n",
       "    </tr>\n",
       "    <tr>\n",
       "      <th>3</th>\n",
       "      <td>Ridiculously Good Air Fryer Salmon</td>\n",
       "      <td>cornstarch chili powder brown sugar onion powd...</td>\n",
       "      <td>['Prep the salmon: Remove the skin from your s...</td>\n",
       "    </tr>\n",
       "    <tr>\n",
       "      <th>4</th>\n",
       "      <td>Two Huge Chocolate Chip Cookies</td>\n",
       "      <td>cornstarch allpurpos flour brown sugar white s...</td>\n",
       "      <td>['Preheat the oven to 350 degrees.', 'Mix butt...</td>\n",
       "    </tr>\n",
       "  </tbody>\n",
       "</table>\n",
       "</div>"
      ],
      "text/plain": [
       "                                        title  \\\n",
       "0                     Big Yummy Italian Salad   \n",
       "1  Crispy Rice Salad with Cucumbers and Herbs   \n",
       "2                  Incredible Gochujang Sauce   \n",
       "3          Ridiculously Good Air Fryer Salmon   \n",
       "4             Two Huge Chocolate Chip Cookies   \n",
       "\n",
       "                                         ingredients  \\\n",
       "0  pepperoncini italian season romain lettuc pank...   \n",
       "1  cornstarch cucumb jasmin rice ginger garlic br...   \n",
       "2   rice vinegar garlic soy sauc mayo gochujang sauc   \n",
       "3  cornstarch chili powder brown sugar onion powd...   \n",
       "4  cornstarch allpurpos flour brown sugar white s...   \n",
       "\n",
       "                                        instructions  \n",
       "0  ['Prep Salad Stuff: Chop all your salad veggie...  \n",
       "1  ['Dressing: Blitz everything up in a blender o...  \n",
       "2  ['Mix all ingredients together in a small bowl...  \n",
       "3  ['Prep the salmon: Remove the skin from your s...  \n",
       "4  ['Preheat the oven to 350 degrees.', 'Mix butt...  "
      ]
     },
     "execution_count": 10,
     "metadata": {},
     "output_type": "execute_result"
    }
   ],
   "source": [
    "# Drop unnecessary columns\n",
    "df_dynamic.drop(columns=[\"image\", \"total time\", \"description\"], inplace=True)\n",
    "df_dynamic.head()"
   ]
  },
  {
   "cell_type": "markdown",
   "id": "418161fb-b3df-43a5-ab8d-4c64062711c6",
   "metadata": {},
   "source": [
    "### Data Preprocessing\n",
    "\n",
    "- Clean & standardize ingredients"
   ]
  },
  {
   "cell_type": "markdown",
   "id": "790d6d46",
   "metadata": {},
   "source": [
    "Used regex and string methods to clean and standardize:\n",
    "- Ingredients: lowercase, alphanumeric filtering, list normalization.\n",
    "- Instructions: sentence splitting, stripping, and cleaning.\n"
   ]
  },
  {
   "cell_type": "code",
   "execution_count": null,
   "id": "8734b44f",
   "metadata": {},
   "outputs": [],
   "source": [
    "import pandas as pd\n",
    "import ast\n",
    "import re\n",
    "\n",
    "# -----------------------\n",
    "# Step 1: Standardize Columns\n",
    "# -----------------------\n",
    "df_static.rename(columns={'directions': 'instructions'}, inplace=True)\n",
    "df_dynamic.rename(columns={'Recipe_name': 'title',\n",
    "                           'Recipe_ingredients': 'ingredients',\n",
    "                           'Recipe_instructions': 'instructions'}, inplace=True)\n",
    "\n",
    "# -----------------------\n",
    "# Step 2: Clean Ingredients\n",
    "# -----------------------\n",
    "def process_ingredients(ing):\n",
    "    if isinstance(ing, list):\n",
    "        return [re.sub(r'[^a-z0-9\\s.]', '', i.lower().strip()) for i in ing]\n",
    "    elif isinstance(ing, str):\n",
    "        tokens = ing.split()\n",
    "        return [re.sub(r'[^a-z0-9\\s.]', '', i.lower().strip()) for i in tokens if len(i) > 1]\n",
    "    else:\n",
    "        return []\n",
    "\n",
    "df_static['ingredients'] = df_static['ingredients'].apply(lambda x: ast.literal_eval(x) if isinstance(x, str) else x)\n",
    "df_dynamic['ingredients'] = df_dynamic['ingredients'].apply(process_ingredients)\n",
    "\n",
    "# -----------------------\n",
    "# Step 3: Clean Instructions\n",
    "# -----------------------\n",
    "def process_instructions(instr):\n",
    "    if isinstance(instr, list):\n",
    "        return [i.strip() for i in instr if len(i.strip()) > 0]\n",
    "    elif isinstance(instr, str):\n",
    "        return [i.strip() for i in instr.split('.') if len(i.strip()) > 0]\n",
    "    else:\n",
    "        return []\n",
    "\n",
    "df_static['instructions'] = df_static['instructions'].apply(process_instructions)\n",
    "df_dynamic['instructions'] = df_dynamic['instructions'].apply(process_instructions)\n",
    "\n",
    "# -----------------------\n",
    "# Step 4: Merge Datasets\n",
    "# -----------------------\n",
    "df_combined = pd.concat([df_static, df_dynamic], ignore_index=True)\n",
    "df_combined.dropna(subset=['ingredients', 'instructions'], inplace=True)\n",
    "\n",
    "df_combined.head()"
   ]
  },
  {
   "cell_type": "code",
   "execution_count": null,
   "id": "69dcff94",
   "metadata": {},
   "outputs": [],
   "source": [
    "import os\n",
    "\n",
    "os.makedirs(\"../processed_dataset\", exist_ok=True)\n",
    "\n",
    "# Save clean dataset\n",
    "df_combined.to_csv(\"../processed_dataset/combined_recipes_cleaned.csv\", index=False)\n",
    "print(\"Data integration complete. Ready for feature engineering!\")"
   ]
  },
  {
   "cell_type": "code",
   "execution_count": null,
   "id": "2e1c8ce7",
   "metadata": {},
   "outputs": [],
   "source": [
    "df_combined.dtypes"
   ]
  },
  {
   "cell_type": "code",
   "execution_count": null,
   "id": "f601cc08",
   "metadata": {},
   "outputs": [],
   "source": [
    "import pandas as pd\n",
    "import ast\n",
    "import re\n",
    "from collections import Counter\n",
    "import matplotlib.pyplot as plt\n",
    "\n",
    "# Load your combined dataset\n",
    "df = pd.read_csv(\"../processed_dataset/combined_recipes_cleaned.csv\")  # Replace with actual path\n",
    "\n",
    "# STEP 1: Parse ingredients column into token list\n",
    "def flatten_and_tokenize(ingredient_col):\n",
    "    all_tokens = []\n",
    "    for entry in ingredient_col:\n",
    "        try:\n",
    "            ingredients = ast.literal_eval(entry) if isinstance(entry, str) and entry.startswith(\"[\") else [entry]\n",
    "            for line in ingredients:\n",
    "                # Lowercase, remove punctuation/numbers\n",
    "                line = line.lower()\n",
    "                line = re.sub(r'[^a-z\\s]', '', line)\n",
    "                tokens = line.split()\n",
    "                all_tokens.extend(tokens)\n",
    "        except:\n",
    "            continue\n",
    "    return all_tokens\n",
    "\n",
    "# STEP 2: Generate token frequency\n",
    "tokens = flatten_and_tokenize(df['ingredients'])\n",
    "token_freq = Counter(tokens)\n",
    "\n",
    "# STEP 3: Convert to DataFrame for inspection\n",
    "stopword_df = pd.DataFrame(token_freq.items(), columns=[\"token\", \"count\"]).sort_values(by=\"count\", ascending=False)\n",
    "\n",
    "# STEP 4: Show top 100 most common tokens\n",
    "print(stopword_df.head(100))\n",
    "\n",
    "# Optional: Save all tokens with counts\n",
    "stopword_df.to_csv(\"../processed_dataset/ingredient_token_counts.csv\", index=False)"
   ]
  },
  {
   "cell_type": "code",
   "execution_count": null,
   "id": "e6051241",
   "metadata": {},
   "outputs": [],
   "source": [
    "import pandas as pd\n",
    "import re\n",
    "import ast\n",
    "import nltk\n",
    "from nltk.tokenize import word_tokenize\n",
    "from nltk.stem import WordNetLemmatizer\n",
    "from nltk.corpus import stopwords\n",
    "\n",
    "nltk.download('stopwords')\n",
    "nltk.download('punkt')\n",
    "nltk.download('wordnet')\n",
    "\n",
    "lemmatizer = WordNetLemmatizer()\n",
    "stop_words = set(stopwords.words('english'))\n",
    "\n",
    "# Define custom stopwords \n",
    "custom_stopwords = stop_words.union({\n",
    "    # Measurement units\n",
    "    'c', 'cup', 'cups', 'tsp', 'teaspoon', 'teaspoons', 'tbsp', 'tablespoon', 'tablespoons',\n",
    "    'oz', 'ounce', 'ounces', 'lb', 'lbs', 'pound', 'pounds', 'g', 'gram', 'grams', 'kg',\n",
    "    'ml', 'milliliter', 'milliliters', 'l', 'liter', 'liters', 'qt', 'quart', 'quarts',\n",
    "    'pt', 'pint', 'pints', 'gal', 'gallon', 'gallons', 'pkg', 'pkgs', 'package', 'packages',\n",
    "    'stick', 'sticks', 'dash', 'pinch', 'can', 'cans', 'fluid', 'fl', 'jar', 'jars',\n",
    "    'box', 'boxes', 'bottle', 'bottles', 't', 'tbs', 'tbls', 'qt.', 'pt.', 'oz.', 'lb.', 'g.', 'ml.', 'kg.', 'l.', 'pkg.', 'pkt',\n",
    "\n",
    "    # Preparation and cooking descriptors\n",
    "    'chopped', 'minced', 'diced', 'sliced', 'grated', 'crushed', 'shredded', 'cut',\n",
    "    'peeled', 'optional', 'seeded', 'halved', 'coarsely', 'finely', 'thinly', 'roughly',\n",
    "    'cubed', 'crumbled', 'ground', 'trimmed', 'boneless', 'skinless', 'melted', 'softened',\n",
    "    'cooled', 'boiled', 'cooked', 'uncooked', 'raw', 'drained', 'rinsed', 'beaten', 'size'\n",
    "\n",
    "    # Quantity and portion descriptors\n",
    "    'small', 'medium', 'large', 'extra', 'light', 'dark', 'best', 'fresh', 'freshly',\n",
    "    'ripe', 'mini', 'whole', 'big', 'room', 'temperature', 'zero', 'one', 'two', 'three',\n",
    "    'four', 'five', 'six', 'eight', 'ten', 'twelve', 'half', 'third', 'quarter', 'dozen',\n",
    "    'thousand', 'bite'\n",
    "\n",
    "    # Filler or generic stopwords\n",
    "    'plus', 'with', 'without', 'into', 'about', 'of', 'the', 'to', 'for', 'in', 'from',\n",
    "    'as', 'and', 'or', 'on', 'your', 'if', 'such', 'you', 'use', 'may'\n",
    "})\n",
    "\n",
    "def preprocess_ingredients(ingredients):\n",
    "    try:\n",
    "        if isinstance(ingredients, str):\n",
    "            ingredients_list = ast.literal_eval(ingredients) if ingredients.startswith(\"[\") else [ingredients]\n",
    "        elif isinstance(ingredients, list):\n",
    "            ingredients_list = ingredients\n",
    "        else:\n",
    "            return \"\"\n",
    "\n",
    "        cleaned_ingredients = set()\n",
    "\n",
    "        for ing in ingredients_list:\n",
    "            ing = re.sub(r'\\(.*?\\)', '', str(ing)).lower() \n",
    "            ing = re.sub(r'[^a-z\\s]', '', ing)  \n",
    "            tokens = word_tokenize(ing)\n",
    "            tokens = [lemmatizer.lemmatize(token) for token in tokens if token not in custom_stopwords and len(token) > 1]\n",
    "            if tokens:\n",
    "                phrase = \" \".join(tokens)\n",
    "                if \"oil\" not in phrase and \"salt\" not in phrase and \"water\" not in phrase:\n",
    "                    cleaned_ingredients.add(phrase)\n",
    "\n",
    "        return \", \".join(sorted(cleaned_ingredients))\n",
    "\n",
    "    except Exception as e:\n",
    "        print(f\"Preprocessing error: {e}\")\n",
    "        return \"\"\n",
    "\n",
    "def preprocess_user_ingredients(user_input):\n",
    "    ingredients = user_input.split(',')\n",
    "    ingredients_str = str([ing.strip() for ing in ingredients])\n",
    "    return preprocess_ingredients(ingredients_str)\n",
    "\n",
    "df_combined = pd.read_csv(\"../processed_dataset/combined_recipes_cleaned.csv\") \n",
    "\n",
    "df_combined['ingredients_clean'] = df_combined['ingredients'].apply(preprocess_ingredients)\n",
    "\n",
    "print(df_combined[['ingredients', 'ingredients_clean']].head())\n",
    "\n",
    "df_combined.to_csv('../processed_dataset/clean_receipe_dataset.csv', index=False)"
   ]
  },
  {
   "cell_type": "code",
   "execution_count": null,
   "id": "6a05e958",
   "metadata": {},
   "outputs": [],
   "source": [
    "df_combined"
   ]
  },
  {
   "cell_type": "markdown",
   "id": "2684a257",
   "metadata": {},
   "source": [
    "## Data Storage"
   ]
  },
  {
   "cell_type": "code",
   "execution_count": null,
   "id": "220d1f62",
   "metadata": {},
   "outputs": [],
   "source": [
    "import pickle\n",
    "\n",
    "with open('../models/recipes.pkl', 'wb') as file:\n",
    "    pickle.dump(df_combined, file)"
   ]
  },
  {
   "cell_type": "code",
   "execution_count": null,
   "id": "a4eac8c2",
   "metadata": {},
   "outputs": [],
   "source": [
    "import sqlite3\n",
    "import os\n",
    "import ast\n",
    "\n",
    "receipe_df = df_combined[['title', 'ingredients', 'instructions']] \n",
    "\n",
    "# Ensure that the database folder exists\n",
    "os.makedirs(\"../database\", exist_ok=True)\n",
    "\n",
    "# Connect to (or create) the SQLite database\n",
    "conn = sqlite3.connect(\"../database/pantrypalette.db\")\n",
    "\n",
    "# Create a table named 'recipes' and populate it with the DataFrame data\n",
    "receipe_df.to_sql(\"recipes\", conn, if_exists=\"replace\", index=False)\n",
    "\n",
    "conn.close()\n",
    "\n",
    "print(\"SQLite database 'pantrypalette.db' has been created and populated.\")"
   ]
  },
  {
   "cell_type": "code",
   "execution_count": null,
   "id": "4f6c1f21",
   "metadata": {},
   "outputs": [],
   "source": [
    "df_combined"
   ]
  },
  {
   "cell_type": "markdown",
   "id": "994c312c-83d5-4f01-ac74-9baad54fd0ad",
   "metadata": {},
   "source": [
    "## Feature Engineering\n",
    "\n",
    "- TF-IDF + Cosine Similarity"
   ]
  },
  {
   "cell_type": "code",
   "execution_count": null,
   "id": "5de3469c",
   "metadata": {},
   "outputs": [],
   "source": [
    "from sklearn.model_selection import train_test_split\n",
    "\n",
    "# 1. Train-Test Split\n",
    "train_df, test_df = train_test_split(df_combined, test_size=0.3, random_state=42)\n",
    "\n",
    "print(train_df.shape), print(test_df.shape)"
   ]
  },
  {
   "cell_type": "code",
   "execution_count": null,
   "id": "06785190",
   "metadata": {},
   "outputs": [],
   "source": [
    "train_df"
   ]
  },
  {
   "cell_type": "code",
   "execution_count": null,
   "id": "1badb8dc",
   "metadata": {},
   "outputs": [],
   "source": [
    "from sklearn.feature_extraction.text import TfidfVectorizer\n",
    "from sklearn.neighbors import NearestNeighbors\n",
    "\n",
    "# 2. TF-IDF Vectorization with Bigrams\n",
    "vectorizer = TfidfVectorizer(max_features=500, ngram_range=(1, 2))\n",
    "train_vectors = vectorizer.fit_transform(train_df['ingredients'])\n",
    "\n",
    "# 3. Nearest Neighbors Model (Cosine Similarity)\n",
    "nn = NearestNeighbors(n_neighbors=10, metric='cosine')\n",
    "nn.fit(train_vectors)"
   ]
  },
  {
   "cell_type": "markdown",
   "id": "7e047a78-0b43-4d29-ad62-e330ba6c7e29",
   "metadata": {},
   "source": [
    "## Model Development\n",
    "\n",
    "- Train NLP-based model"
   ]
  },
  {
   "cell_type": "code",
   "execution_count": null,
   "id": "2873c1a6",
   "metadata": {},
   "outputs": [],
   "source": [
    "def find_similar_recipes(user_input, vectorizer, nn_model, train_df):\n",
    "    \"\"\"\n",
    "    Finds the top 10 similar recipes based on user's ingredients input and shows similarity score.\n",
    "    \"\"\"\n",
    "    user_cleaned = preprocess_user_ingredients(user_input)\n",
    "    print(f\"\\n🔍 Processed Input: {user_cleaned}\")\n",
    "    \n",
    "    # Vectorize the cleaned user input using the improved TF-IDF vectorizer\n",
    "    user_vector = vectorizer.transform([user_cleaned])\n",
    "    distances, indices = nn_model.kneighbors(user_vector)\n",
    "\n",
    "    print(\"\\n🍽️ Top 10 similar recipes:\\n\")\n",
    "    for i, (idx, dist) in enumerate(zip(indices[0], distances[0])):\n",
    "        similarity_score = round((1 - dist) * 100, 2)  # Convert cosine distance to percentage similarity\n",
    "        title = train_df.iloc[idx]['title'] if 'title' in train_df.columns else 'N/A'\n",
    "        ingredients = train_df.iloc[idx]['ingredients']\n",
    "        ingredients_clean = train_df.iloc[idx]['ingredients_clean']\n",
    "\n",
    "        print(f\"{i+1}. Title: {title}\")\n",
    "        print(f\"   Similarity: {similarity_score}%\")\n",
    "        print(f\"   Ingredients: {ingredients}\")\n",
    "        print(f\"   Cleaned Ingredients: {ingredients_clean}\\n\")"
   ]
  },
  {
   "cell_type": "code",
   "execution_count": null,
   "id": "0b74052d",
   "metadata": {},
   "outputs": [],
   "source": [
    "user_input = \"milk, eggs, sugar, pasta, maida\"\n",
    "find_similar_recipes(user_input, vectorizer, nn, train_df)"
   ]
  },
  {
   "cell_type": "code",
   "execution_count": null,
   "id": "6ce8a132",
   "metadata": {},
   "outputs": [],
   "source": [
    "user_input = \"onion, tomato, garlic\"\n",
    "find_similar_recipes(user_input, vectorizer, nn, train_df)"
   ]
  },
  {
   "cell_type": "code",
   "execution_count": null,
   "id": "5e6d4a23",
   "metadata": {},
   "outputs": [],
   "source": [
    "import joblib\n",
    "\n",
    "os.makedirs(\"../models\", exist_ok=True)\n",
    "\n",
    "# Save vectorizer and nearest neighbors model\n",
    "joblib.dump(vectorizer, \"../models/tfidf_vectorizer.pkl\")\n",
    "joblib.dump(nn, \"../models/nearest_neighbors_model.pkl\")\n",
    "\n",
    "# Optionally save the training DataFrame (with titles + ingredients)\n",
    "train_df.to_csv(\"../processed_dataset/trained_data.csv\", index=False)"
   ]
  },
  {
   "cell_type": "markdown",
   "id": "4cbd2dfd",
   "metadata": {},
   "source": [
    "## Docker Containers"
   ]
  },
  {
   "cell_type": "raw",
   "id": "d622fd28",
   "metadata": {},
   "source": [
    "# Use official Python image as a base\n",
    "FROM python:3.9\n",
    "\n",
    "# Set the working directory inside the container\n",
    "WORKDIR /app\n",
    "\n",
    "# Copy all files from the current directory to the container\n",
    "COPY . .\n",
    "\n",
    "# Install dependencies\n",
    "RUN pip install --no-cache-dir -r requirements.txt\n",
    "\n",
    "# Expose the port Streamlit runs on\n",
    "EXPOSE 8501\n",
    "\n",
    "# Command to run the Streamlit app\n",
    "CMD [\"streamlit\", \"run\", \"app.py\", \"--server.port=8501\", \"--server.address=0.0.0.0\"]"
   ]
  },
  {
   "cell_type": "markdown",
   "id": "85289775-75a5-4914-80e0-bd093f080c37",
   "metadata": {},
   "source": [
    "## UI Development\n",
    "\n",
    "- Streamlit"
   ]
  },
  {
   "cell_type": "markdown",
   "id": "3b63939d-bbee-483b-a31b-3c16a4cc00ae",
   "metadata": {},
   "source": [
    "## Model Monitoring\n",
    "\n",
    "- PowerBI"
   ]
  },
  {
   "cell_type": "markdown",
   "id": "f0a7b33c-47eb-403c-af06-833e3e8358ed",
   "metadata": {},
   "source": [
    "<center><h4>Enjoy Your Perfect Recipe! 🍽️</h4></center>\n",
    "<center>Designed By: Madhurya Shankar & Sandhya Kilari</center>"
   ]
  }
 ],
 "metadata": {
  "kernelspec": {
   "display_name": "sk",
   "language": "python",
   "name": "python3"
  },
  "language_info": {
   "codemirror_mode": {
    "name": "ipython",
    "version": 3
   },
   "file_extension": ".py",
   "mimetype": "text/x-python",
   "name": "python",
   "nbconvert_exporter": "python",
   "pygments_lexer": "ipython3",
   "version": "3.13.1"
  }
 },
 "nbformat": 4,
 "nbformat_minor": 5
}
