{
 "cells": [
  {
   "cell_type": "markdown",
   "id": "90c5f1d1-db55-4540-9c49-a210df07319f",
   "metadata": {},
   "source": [
    "<center><h1>PantryPalette: Your Ingredient-Inspired Recipe Guide</h1></center>"
   ]
  },
  {
   "cell_type": "markdown",
   "id": "ba96852a-3d1c-4025-b840-0216c111c5ae",
   "metadata": {},
   "source": [
    "# Problem Statement"
   ]
  },
  {
   "cell_type": "markdown",
   "id": "c1c01efc-ac5f-4663-ac93-26faa45cadd5",
   "metadata": {},
   "source": [
    "Every day, households struggle with unused ingredients in their kitchens, often leading to food waste due\n",
    "to a lack of inspiration or knowledge on how to use them effectively. Many individuals resort to takeout\n",
    "or repetitive meals, simply because they don’t know what to cook with the ingredients they already have.\n",
    "\n",
    "\n",
    "Meanwhile, traditional recipe search methods require manual browsing through extensive databases,\n",
    "leading to time-consuming and frustrating experiences. Users with dietary restrictions, allergies, or\n",
    "cultural food preferences face an additional challenge in finding recipes that align with their needs.\n",
    "\n",
    "PantryPalette is designed to solve this problem by offering a seamless, ingredient-based recipe discovery\n",
    "experience that helps users maximize their groceries, reduce food waste, and discover new meal ideas\n",
    "with ease."
   ]
  },
  {
   "cell_type": "markdown",
   "id": "0eede9b6",
   "metadata": {},
   "source": [
    "## Purpose"
   ]
  },
  {
   "cell_type": "markdown",
   "id": "f4adf9de",
   "metadata": {},
   "source": [
    "The purpose of the MLOps project is to develop an end-to-end data science solution that is usable by someone with no technical knowledge. \n",
    "\n",
    "It must include the following components\n",
    "- A process map built which documents the process\n",
    "- Data ingested from an online source\n",
    "- A data repository and model repository\n",
    "- A predictive model built off the data\n",
    "- The model predictions\n",
    "\n",
    "  a. Put into a Streamlit application\n",
    "\n",
    "  b. Via a Docker deployment\n",
    "\n",
    "  c. Which is accessible to users\n",
    "  \n",
    "- A model monitoring dashboard built\n",
    "- Documentation for the model process and risks with the production\n",
    "\n",
    "The purpose is not to have a complex model. It is meant to have a simpler model that works! All of this is to be done in teams of 2, along with individual users. Both the modeling teams and users will take part in the presentations"
   ]
  },
  {
   "cell_type": "markdown",
   "id": "912886b7-d084-4964-820e-78328eadc0f1",
   "metadata": {},
   "source": [
    "# Implementation"
   ]
  },
  {
   "cell_type": "markdown",
   "id": "bbc0044d-f7c5-4eca-88c5-c3fc48640870",
   "metadata": {},
   "source": [
    "## Data Collection and Ingestion\n",
    "\n",
    "- Get RecipeNLG data (static data) + Spoonacular API (dynamic data)"
   ]
  },
  {
   "cell_type": "markdown",
   "id": "b6086d10-2a06-49f1-9e2b-8d0aa6d45d7d",
   "metadata": {},
   "source": [
    "### Static Data Collection (RecipeNLG Dataset)\n",
    "\n",
    "- Get RecipeNLG data (static data)"
   ]
  },
  {
   "cell_type": "code",
   "execution_count": null,
   "id": "0b50838d",
   "metadata": {},
   "outputs": [],
   "source": []
  },
  {
   "cell_type": "markdown",
   "id": "41c78fb4-cb9c-47e9-bcf1-976086d9c0a2",
   "metadata": {},
   "source": [
    "### Dynamic Data Integration (Spoonacular API)\n",
    "\n",
    "- Get Spoonacular API (dynamic data)"
   ]
  },
  {
   "cell_type": "code",
   "execution_count": null,
   "id": "01c7cfe4",
   "metadata": {},
   "outputs": [],
   "source": []
  },
  {
   "cell_type": "markdown",
   "id": "418161fb-b3df-43a5-ab8d-4c64062711c6",
   "metadata": {},
   "source": [
    "### Data Preprocessing\n",
    "\n",
    "- Clean & standardize ingredients"
   ]
  },
  {
   "cell_type": "code",
   "execution_count": null,
   "id": "e97bf70a",
   "metadata": {},
   "outputs": [],
   "source": []
  },
  {
   "cell_type": "markdown",
   "id": "994c312c-83d5-4f01-ac74-9baad54fd0ad",
   "metadata": {},
   "source": [
    "## Feature Engineering\n",
    "\n",
    "- TF-IDF + Cosine Similarity"
   ]
  },
  {
   "cell_type": "code",
   "execution_count": null,
   "id": "eb346b4e-484d-4717-acd7-90805ef94ae8",
   "metadata": {},
   "outputs": [],
   "source": []
  },
  {
   "cell_type": "markdown",
   "id": "7e047a78-0b43-4d29-ad62-e330ba6c7e29",
   "metadata": {},
   "source": [
    "## Model Development\n",
    "\n",
    "- Train NLP-based model"
   ]
  },
  {
   "cell_type": "code",
   "execution_count": null,
   "id": "1db82368-ce39-471f-bb3e-c1509a79c71f",
   "metadata": {},
   "outputs": [],
   "source": []
  },
  {
   "cell_type": "markdown",
   "id": "b470f7cf-2ee7-4ba6-aebf-4ab4d074c2d2",
   "metadata": {},
   "source": [
    "## Model Deployment\n",
    "\n",
    "- Docker containerization & MLFlow"
   ]
  },
  {
   "cell_type": "code",
   "execution_count": null,
   "id": "632146fd-ad1c-45a4-b1eb-8d77cc1a9348",
   "metadata": {},
   "outputs": [],
   "source": []
  },
  {
   "cell_type": "markdown",
   "id": "85289775-75a5-4914-80e0-bd093f080c37",
   "metadata": {},
   "source": [
    "## UI Development\n",
    "\n",
    "- Streamlit"
   ]
  },
  {
   "cell_type": "code",
   "execution_count": 33,
   "id": "1d0e6885-5ad2-4bb0-8b83-373d7f858b33",
   "metadata": {},
   "outputs": [],
   "source": []
  },
  {
   "cell_type": "markdown",
   "id": "3b63939d-bbee-483b-a31b-3c16a4cc00ae",
   "metadata": {},
   "source": [
    "## Model Monitoring\n",
    "\n",
    "- PowerBI"
   ]
  },
  {
   "cell_type": "code",
   "execution_count": 37,
   "id": "e98e47d2-9e18-49d8-864d-2857f0e06c83",
   "metadata": {},
   "outputs": [],
   "source": []
  },
  {
   "cell_type": "markdown",
   "id": "f0a7b33c-47eb-403c-af06-833e3e8358ed",
   "metadata": {},
   "source": [
    "<center><h4>Enjoy Your Perfect Recipe! 🍽️</h4></center>\n",
    "<center>Designed By: Madhurya Shankar & Sandhya Kilari</center>"
   ]
  }
 ],
 "metadata": {
  "kernelspec": {
   "display_name": "Python [conda env:sk]",
   "language": "python",
   "name": "conda-env-sk-py"
  },
  "language_info": {
   "codemirror_mode": {
    "name": "ipython",
    "version": 3
   },
   "file_extension": ".py",
   "mimetype": "text/x-python",
   "name": "python",
   "nbconvert_exporter": "python",
   "pygments_lexer": "ipython3",
   "version": "3.13.1"
  }
 },
 "nbformat": 4,
 "nbformat_minor": 5
}
