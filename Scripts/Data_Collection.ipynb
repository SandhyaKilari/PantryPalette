{
 "cells": [
  {
   "cell_type": "markdown",
   "id": "b5d805e9-62c7-4b41-bf0e-324127a4f92d",
   "metadata": {},
   "source": [
    "## Static Data Collection (RecipeNLG Dataset)"
   ]
  },
  {
   "cell_type": "code",
   "execution_count": null,
   "id": "af88d9b2",
   "metadata": {},
   "outputs": [],
   "source": [
    "# ! pip install pandas numpy spacy\n",
    "\n",
    "# python -m spacy download en_core_web_sm"
   ]
  },
  {
   "cell_type": "code",
   "execution_count": 1,
   "id": "6b19c78f-dc03-48e1-9bbd-b0b4ae97036e",
   "metadata": {},
   "outputs": [],
   "source": [
    "import pandas as pd\n",
    "import numpy as np\n",
    "import re\n",
    "import spacy"
   ]
  },
  {
   "cell_type": "code",
   "execution_count": 2,
   "id": "ddf9a2bf-8aad-4b3a-9339-9fe8bbce54a7",
   "metadata": {},
   "outputs": [],
   "source": [
    "receipenlg = pd.read_csv(\"/Users/sandhyakilari/Desktop/MLOps Project/dataset/RecipeNLG_dataset.csv\")"
   ]
  },
  {
   "cell_type": "code",
   "execution_count": 4,
   "id": "190fceb3-6e9b-48ab-ad35-a522acb88d30",
   "metadata": {},
   "outputs": [
    {
     "data": {
      "text/html": [
       "<div>\n",
       "<style scoped>\n",
       "    .dataframe tbody tr th:only-of-type {\n",
       "        vertical-align: middle;\n",
       "    }\n",
       "\n",
       "    .dataframe tbody tr th {\n",
       "        vertical-align: top;\n",
       "    }\n",
       "\n",
       "    .dataframe thead th {\n",
       "        text-align: right;\n",
       "    }\n",
       "</style>\n",
       "<table border=\"1\" class=\"dataframe\">\n",
       "  <thead>\n",
       "    <tr style=\"text-align: right;\">\n",
       "      <th></th>\n",
       "      <th>Unnamed: 0</th>\n",
       "      <th>title</th>\n",
       "      <th>ingredients</th>\n",
       "      <th>directions</th>\n",
       "      <th>link</th>\n",
       "      <th>source</th>\n",
       "      <th>NER</th>\n",
       "    </tr>\n",
       "  </thead>\n",
       "  <tbody>\n",
       "    <tr>\n",
       "      <th>0</th>\n",
       "      <td>0</td>\n",
       "      <td>No-Bake Nut Cookies</td>\n",
       "      <td>[\"1 c. firmly packed brown sugar\", \"1/2 c. eva...</td>\n",
       "      <td>[\"In a heavy 2-quart saucepan, mix brown sugar...</td>\n",
       "      <td>www.cookbooks.com/Recipe-Details.aspx?id=44874</td>\n",
       "      <td>Gathered</td>\n",
       "      <td>[\"brown sugar\", \"milk\", \"vanilla\", \"nuts\", \"bu...</td>\n",
       "    </tr>\n",
       "    <tr>\n",
       "      <th>1</th>\n",
       "      <td>1</td>\n",
       "      <td>Jewell Ball'S Chicken</td>\n",
       "      <td>[\"1 small jar chipped beef, cut up\", \"4 boned ...</td>\n",
       "      <td>[\"Place chipped beef on bottom of baking dish....</td>\n",
       "      <td>www.cookbooks.com/Recipe-Details.aspx?id=699419</td>\n",
       "      <td>Gathered</td>\n",
       "      <td>[\"beef\", \"chicken breasts\", \"cream of mushroom...</td>\n",
       "    </tr>\n",
       "    <tr>\n",
       "      <th>2</th>\n",
       "      <td>2</td>\n",
       "      <td>Creamy Corn</td>\n",
       "      <td>[\"2 (16 oz.) pkg. frozen corn\", \"1 (8 oz.) pkg...</td>\n",
       "      <td>[\"In a slow cooker, combine all ingredients. C...</td>\n",
       "      <td>www.cookbooks.com/Recipe-Details.aspx?id=10570</td>\n",
       "      <td>Gathered</td>\n",
       "      <td>[\"frozen corn\", \"cream cheese\", \"butter\", \"gar...</td>\n",
       "    </tr>\n",
       "    <tr>\n",
       "      <th>3</th>\n",
       "      <td>3</td>\n",
       "      <td>Chicken Funny</td>\n",
       "      <td>[\"1 large whole chicken\", \"2 (10 1/2 oz.) cans...</td>\n",
       "      <td>[\"Boil and debone chicken.\", \"Put bite size pi...</td>\n",
       "      <td>www.cookbooks.com/Recipe-Details.aspx?id=897570</td>\n",
       "      <td>Gathered</td>\n",
       "      <td>[\"chicken\", \"chicken gravy\", \"cream of mushroo...</td>\n",
       "    </tr>\n",
       "    <tr>\n",
       "      <th>4</th>\n",
       "      <td>4</td>\n",
       "      <td>Reeses Cups(Candy)</td>\n",
       "      <td>[\"1 c. peanut butter\", \"3/4 c. graham cracker ...</td>\n",
       "      <td>[\"Combine first four ingredients and press in ...</td>\n",
       "      <td>www.cookbooks.com/Recipe-Details.aspx?id=659239</td>\n",
       "      <td>Gathered</td>\n",
       "      <td>[\"peanut butter\", \"graham cracker crumbs\", \"bu...</td>\n",
       "    </tr>\n",
       "  </tbody>\n",
       "</table>\n",
       "</div>"
      ],
      "text/plain": [
       "   Unnamed: 0                  title  \\\n",
       "0           0    No-Bake Nut Cookies   \n",
       "1           1  Jewell Ball'S Chicken   \n",
       "2           2            Creamy Corn   \n",
       "3           3          Chicken Funny   \n",
       "4           4   Reeses Cups(Candy)     \n",
       "\n",
       "                                         ingredients  \\\n",
       "0  [\"1 c. firmly packed brown sugar\", \"1/2 c. eva...   \n",
       "1  [\"1 small jar chipped beef, cut up\", \"4 boned ...   \n",
       "2  [\"2 (16 oz.) pkg. frozen corn\", \"1 (8 oz.) pkg...   \n",
       "3  [\"1 large whole chicken\", \"2 (10 1/2 oz.) cans...   \n",
       "4  [\"1 c. peanut butter\", \"3/4 c. graham cracker ...   \n",
       "\n",
       "                                          directions  \\\n",
       "0  [\"In a heavy 2-quart saucepan, mix brown sugar...   \n",
       "1  [\"Place chipped beef on bottom of baking dish....   \n",
       "2  [\"In a slow cooker, combine all ingredients. C...   \n",
       "3  [\"Boil and debone chicken.\", \"Put bite size pi...   \n",
       "4  [\"Combine first four ingredients and press in ...   \n",
       "\n",
       "                                              link    source  \\\n",
       "0   www.cookbooks.com/Recipe-Details.aspx?id=44874  Gathered   \n",
       "1  www.cookbooks.com/Recipe-Details.aspx?id=699419  Gathered   \n",
       "2   www.cookbooks.com/Recipe-Details.aspx?id=10570  Gathered   \n",
       "3  www.cookbooks.com/Recipe-Details.aspx?id=897570  Gathered   \n",
       "4  www.cookbooks.com/Recipe-Details.aspx?id=659239  Gathered   \n",
       "\n",
       "                                                 NER  \n",
       "0  [\"brown sugar\", \"milk\", \"vanilla\", \"nuts\", \"bu...  \n",
       "1  [\"beef\", \"chicken breasts\", \"cream of mushroom...  \n",
       "2  [\"frozen corn\", \"cream cheese\", \"butter\", \"gar...  \n",
       "3  [\"chicken\", \"chicken gravy\", \"cream of mushroo...  \n",
       "4  [\"peanut butter\", \"graham cracker crumbs\", \"bu...  "
      ]
     },
     "execution_count": 4,
     "metadata": {},
     "output_type": "execute_result"
    }
   ],
   "source": [
    "receipenlg.head()"
   ]
  },
  {
   "cell_type": "code",
   "execution_count": 5,
   "id": "6c7905dc",
   "metadata": {},
   "outputs": [],
   "source": [
    "receipenlg.reset_index(drop=True, inplace=True)"
   ]
  },
  {
   "cell_type": "code",
   "execution_count": 6,
   "id": "aaf58857",
   "metadata": {},
   "outputs": [
    {
     "data": {
      "text/plain": [
       "0"
      ]
     },
     "execution_count": 6,
     "metadata": {},
     "output_type": "execute_result"
    }
   ],
   "source": [
    "receipenlg.duplicated().sum()"
   ]
  },
  {
   "cell_type": "code",
   "execution_count": 7,
   "id": "79f2438f",
   "metadata": {},
   "outputs": [
    {
     "data": {
      "text/plain": [
       "Unnamed: 0      int64\n",
       "title          object\n",
       "ingredients    object\n",
       "directions     object\n",
       "link           object\n",
       "source         object\n",
       "NER            object\n",
       "dtype: object"
      ]
     },
     "execution_count": 7,
     "metadata": {},
     "output_type": "execute_result"
    }
   ],
   "source": [
    "receipenlg.dtypes"
   ]
  },
  {
   "cell_type": "code",
   "execution_count": 8,
   "id": "522dff18",
   "metadata": {},
   "outputs": [
    {
     "data": {
      "text/plain": [
       "(2231142, 7)"
      ]
     },
     "execution_count": 8,
     "metadata": {},
     "output_type": "execute_result"
    }
   ],
   "source": [
    "receipenlg.shape"
   ]
  },
  {
   "cell_type": "code",
   "execution_count": 9,
   "id": "44a4ad83",
   "metadata": {},
   "outputs": [
    {
     "name": "stdout",
     "output_type": "stream",
     "text": [
      "<class 'pandas.core.frame.DataFrame'>\n",
      "RangeIndex: 2231142 entries, 0 to 2231141\n",
      "Data columns (total 7 columns):\n",
      " #   Column       Dtype \n",
      "---  ------       ----- \n",
      " 0   Unnamed: 0   int64 \n",
      " 1   title        object\n",
      " 2   ingredients  object\n",
      " 3   directions   object\n",
      " 4   link         object\n",
      " 5   source       object\n",
      " 6   NER          object\n",
      "dtypes: int64(1), object(6)\n",
      "memory usage: 119.2+ MB\n"
     ]
    }
   ],
   "source": [
    "receipenlg.info()"
   ]
  },
  {
   "cell_type": "code",
   "execution_count": 10,
   "id": "2fcff052",
   "metadata": {},
   "outputs": [
    {
     "data": {
      "text/html": [
       "<div>\n",
       "<style scoped>\n",
       "    .dataframe tbody tr th:only-of-type {\n",
       "        vertical-align: middle;\n",
       "    }\n",
       "\n",
       "    .dataframe tbody tr th {\n",
       "        vertical-align: top;\n",
       "    }\n",
       "\n",
       "    .dataframe thead th {\n",
       "        text-align: right;\n",
       "    }\n",
       "</style>\n",
       "<table border=\"1\" class=\"dataframe\">\n",
       "  <thead>\n",
       "    <tr style=\"text-align: right;\">\n",
       "      <th></th>\n",
       "      <th>title</th>\n",
       "      <th>ingredients</th>\n",
       "      <th>directions</th>\n",
       "      <th>link</th>\n",
       "      <th>source</th>\n",
       "      <th>NER</th>\n",
       "    </tr>\n",
       "  </thead>\n",
       "  <tbody>\n",
       "    <tr>\n",
       "      <th>count</th>\n",
       "      <td>2231141</td>\n",
       "      <td>2231142</td>\n",
       "      <td>2231142</td>\n",
       "      <td>2231142</td>\n",
       "      <td>2231142</td>\n",
       "      <td>2231142</td>\n",
       "    </tr>\n",
       "    <tr>\n",
       "      <th>unique</th>\n",
       "      <td>1312870</td>\n",
       "      <td>2226362</td>\n",
       "      <td>2211644</td>\n",
       "      <td>2231142</td>\n",
       "      <td>2</td>\n",
       "      <td>2133496</td>\n",
       "    </tr>\n",
       "    <tr>\n",
       "      <th>top</th>\n",
       "      <td>Chicken Casserole</td>\n",
       "      <td>[\"1 c. peanut butter\", \"1 c. sugar\", \"1 egg\"]</td>\n",
       "      <td>[\"Mix all ingredients together.\"]</td>\n",
       "      <td>www.cookbooks.com/Recipe-Details.aspx?id=44874</td>\n",
       "      <td>Gathered</td>\n",
       "      <td>[]</td>\n",
       "    </tr>\n",
       "    <tr>\n",
       "      <th>freq</th>\n",
       "      <td>4099</td>\n",
       "      <td>28</td>\n",
       "      <td>274</td>\n",
       "      <td>1</td>\n",
       "      <td>1643098</td>\n",
       "      <td>573</td>\n",
       "    </tr>\n",
       "  </tbody>\n",
       "</table>\n",
       "</div>"
      ],
      "text/plain": [
       "                    title                                    ingredients  \\\n",
       "count             2231141                                        2231142   \n",
       "unique            1312870                                        2226362   \n",
       "top     Chicken Casserole  [\"1 c. peanut butter\", \"1 c. sugar\", \"1 egg\"]   \n",
       "freq                 4099                                             28   \n",
       "\n",
       "                               directions  \\\n",
       "count                             2231142   \n",
       "unique                            2211644   \n",
       "top     [\"Mix all ingredients together.\"]   \n",
       "freq                                  274   \n",
       "\n",
       "                                                  link    source      NER  \n",
       "count                                          2231142   2231142  2231142  \n",
       "unique                                         2231142         2  2133496  \n",
       "top     www.cookbooks.com/Recipe-Details.aspx?id=44874  Gathered       []  \n",
       "freq                                                 1   1643098      573  "
      ]
     },
     "execution_count": 10,
     "metadata": {},
     "output_type": "execute_result"
    }
   ],
   "source": [
    "receipenlg.describe(include=object)"
   ]
  },
  {
   "cell_type": "code",
   "execution_count": 11,
   "id": "e90c463f",
   "metadata": {},
   "outputs": [
    {
     "data": {
      "text/plain": [
       "Index(['Unnamed: 0', 'title', 'ingredients', 'directions', 'link', 'source',\n",
       "       'NER'],\n",
       "      dtype='object')"
      ]
     },
     "execution_count": 11,
     "metadata": {},
     "output_type": "execute_result"
    }
   ],
   "source": [
    "receipenlg.columns"
   ]
  },
  {
   "cell_type": "markdown",
   "id": "656bfb9b",
   "metadata": {},
   "source": [
    "### Data cleaning"
   ]
  },
  {
   "cell_type": "code",
   "execution_count": 21,
   "id": "8a4a413c",
   "metadata": {},
   "outputs": [],
   "source": [
    "# Drop unnamed index column\n",
    "receipenlg.drop(columns=[\"Unnamed: 0\"], inplace=True)"
   ]
  },
  {
   "cell_type": "code",
   "execution_count": 23,
   "id": "7bc50b26",
   "metadata": {},
   "outputs": [],
   "source": [
    "# Remove null values\n",
    "receipenlg.dropna(inplace=True)"
   ]
  },
  {
   "cell_type": "code",
   "execution_count": 24,
   "id": "5aaea5b3",
   "metadata": {},
   "outputs": [],
   "source": [
    "# Remove duplicates\n",
    "receipenlg.drop_duplicates(inplace=True)"
   ]
  },
  {
   "cell_type": "code",
   "execution_count": 26,
   "id": "b289f579",
   "metadata": {},
   "outputs": [],
   "source": [
    "# Drop rows where essential columns are missing\n",
    "receipenlg.dropna(subset=[\"title\", \"ingredients\", \"directions\"], inplace=True)"
   ]
  },
  {
   "cell_type": "code",
   "execution_count": 27,
   "id": "6ffc7f71",
   "metadata": {},
   "outputs": [],
   "source": [
    "# Clean text fields\n",
    "for col in [\"title\", \"ingredients\", \"directions\", \"link\", \"source\", \"NER\"]:\n",
    "    receipenlg[col] = receipenlg[col].astype(str).str.strip()\n",
    "    receipenlg[col] = receipenlg[col].apply(lambda x: re.sub(r\"\\s+\", \" \", x))  # Remove excessive spaces\n",
    "    receipenlg[col] = receipenlg[col].apply(lambda x: re.sub(r\"[^\\w\\s.,-]\", \"\", x))  # Remove unwanted characters\n",
    "    receipenlg[col] = receipenlg[col].str.lower()"
   ]
  },
  {
   "cell_type": "code",
   "execution_count": 28,
   "id": "447d3c29",
   "metadata": {},
   "outputs": [
    {
     "data": {
      "text/html": [
       "<div>\n",
       "<style scoped>\n",
       "    .dataframe tbody tr th:only-of-type {\n",
       "        vertical-align: middle;\n",
       "    }\n",
       "\n",
       "    .dataframe tbody tr th {\n",
       "        vertical-align: top;\n",
       "    }\n",
       "\n",
       "    .dataframe thead th {\n",
       "        text-align: right;\n",
       "    }\n",
       "</style>\n",
       "<table border=\"1\" class=\"dataframe\">\n",
       "  <thead>\n",
       "    <tr style=\"text-align: right;\">\n",
       "      <th></th>\n",
       "      <th>title</th>\n",
       "      <th>ingredients</th>\n",
       "      <th>directions</th>\n",
       "      <th>link</th>\n",
       "      <th>source</th>\n",
       "      <th>NER</th>\n",
       "    </tr>\n",
       "  </thead>\n",
       "  <tbody>\n",
       "    <tr>\n",
       "      <th>0</th>\n",
       "      <td>no-bake nut cookies</td>\n",
       "      <td>1 c. firmly packed brown sugar, 12 c. evaporat...</td>\n",
       "      <td>in a heavy 2-quart saucepan, mix brown sugar, ...</td>\n",
       "      <td>www.cookbooks.comrecipe-details.aspxid44874</td>\n",
       "      <td>gathered</td>\n",
       "      <td>brown sugar, milk, vanilla, nuts, butter, bite...</td>\n",
       "    </tr>\n",
       "    <tr>\n",
       "      <th>1</th>\n",
       "      <td>jewell balls chicken</td>\n",
       "      <td>1 small jar chipped beef, cut up, 4 boned chic...</td>\n",
       "      <td>place chipped beef on bottom of baking dish., ...</td>\n",
       "      <td>www.cookbooks.comrecipe-details.aspxid699419</td>\n",
       "      <td>gathered</td>\n",
       "      <td>beef, chicken breasts, cream of mushroom soup,...</td>\n",
       "    </tr>\n",
       "    <tr>\n",
       "      <th>2</th>\n",
       "      <td>creamy corn</td>\n",
       "      <td>2 16 oz. pkg. frozen corn, 1 8 oz. pkg. cream ...</td>\n",
       "      <td>in a slow cooker, combine all ingredients. cov...</td>\n",
       "      <td>www.cookbooks.comrecipe-details.aspxid10570</td>\n",
       "      <td>gathered</td>\n",
       "      <td>frozen corn, cream cheese, butter, garlic powd...</td>\n",
       "    </tr>\n",
       "    <tr>\n",
       "      <th>3</th>\n",
       "      <td>chicken funny</td>\n",
       "      <td>1 large whole chicken, 2 10 12 oz. cans chicke...</td>\n",
       "      <td>boil and debone chicken., put bite size pieces...</td>\n",
       "      <td>www.cookbooks.comrecipe-details.aspxid897570</td>\n",
       "      <td>gathered</td>\n",
       "      <td>chicken, chicken gravy, cream of mushroom soup...</td>\n",
       "    </tr>\n",
       "    <tr>\n",
       "      <th>4</th>\n",
       "      <td>reeses cupscandy</td>\n",
       "      <td>1 c. peanut butter, 34 c. graham cracker crumb...</td>\n",
       "      <td>combine first four ingredients and press in 13...</td>\n",
       "      <td>www.cookbooks.comrecipe-details.aspxid659239</td>\n",
       "      <td>gathered</td>\n",
       "      <td>peanut butter, graham cracker crumbs, butter, ...</td>\n",
       "    </tr>\n",
       "  </tbody>\n",
       "</table>\n",
       "</div>"
      ],
      "text/plain": [
       "                  title                                        ingredients  \\\n",
       "0   no-bake nut cookies  1 c. firmly packed brown sugar, 12 c. evaporat...   \n",
       "1  jewell balls chicken  1 small jar chipped beef, cut up, 4 boned chic...   \n",
       "2           creamy corn  2 16 oz. pkg. frozen corn, 1 8 oz. pkg. cream ...   \n",
       "3         chicken funny  1 large whole chicken, 2 10 12 oz. cans chicke...   \n",
       "4      reeses cupscandy  1 c. peanut butter, 34 c. graham cracker crumb...   \n",
       "\n",
       "                                          directions  \\\n",
       "0  in a heavy 2-quart saucepan, mix brown sugar, ...   \n",
       "1  place chipped beef on bottom of baking dish., ...   \n",
       "2  in a slow cooker, combine all ingredients. cov...   \n",
       "3  boil and debone chicken., put bite size pieces...   \n",
       "4  combine first four ingredients and press in 13...   \n",
       "\n",
       "                                           link    source  \\\n",
       "0   www.cookbooks.comrecipe-details.aspxid44874  gathered   \n",
       "1  www.cookbooks.comrecipe-details.aspxid699419  gathered   \n",
       "2   www.cookbooks.comrecipe-details.aspxid10570  gathered   \n",
       "3  www.cookbooks.comrecipe-details.aspxid897570  gathered   \n",
       "4  www.cookbooks.comrecipe-details.aspxid659239  gathered   \n",
       "\n",
       "                                                 NER  \n",
       "0  brown sugar, milk, vanilla, nuts, butter, bite...  \n",
       "1  beef, chicken breasts, cream of mushroom soup,...  \n",
       "2  frozen corn, cream cheese, butter, garlic powd...  \n",
       "3  chicken, chicken gravy, cream of mushroom soup...  \n",
       "4  peanut butter, graham cracker crumbs, butter, ...  "
      ]
     },
     "execution_count": 28,
     "metadata": {},
     "output_type": "execute_result"
    }
   ],
   "source": [
    "receipenlg.head()"
   ]
  },
  {
   "cell_type": "code",
   "execution_count": 29,
   "id": "da8255dc",
   "metadata": {},
   "outputs": [
    {
     "data": {
      "text/plain": [
       "title          object\n",
       "ingredients    object\n",
       "directions     object\n",
       "link           object\n",
       "source         object\n",
       "NER            object\n",
       "dtype: object"
      ]
     },
     "execution_count": 29,
     "metadata": {},
     "output_type": "execute_result"
    }
   ],
   "source": [
    "receipenlg.dtypes"
   ]
  },
  {
   "cell_type": "code",
   "execution_count": 30,
   "id": "a7119928",
   "metadata": {},
   "outputs": [
    {
     "data": {
      "text/plain": [
       "title          0\n",
       "ingredients    0\n",
       "directions     0\n",
       "link           0\n",
       "source         0\n",
       "NER            0\n",
       "dtype: int64"
      ]
     },
     "execution_count": 30,
     "metadata": {},
     "output_type": "execute_result"
    }
   ],
   "source": [
    "receipenlg.isnull().sum()"
   ]
  },
  {
   "cell_type": "code",
   "execution_count": 31,
   "id": "d47aa103",
   "metadata": {},
   "outputs": [
    {
     "data": {
      "text/plain": [
       "(2231141, 6)"
      ]
     },
     "execution_count": 31,
     "metadata": {},
     "output_type": "execute_result"
    }
   ],
   "source": [
    "receipenlg.shape"
   ]
  },
  {
   "cell_type": "markdown",
   "id": "c52ea42a",
   "metadata": {},
   "source": [
    "## Dynamic API Data - Spoonacular API"
   ]
  },
  {
   "cell_type": "code",
   "execution_count": 35,
   "id": "016ae11c",
   "metadata": {},
   "outputs": [],
   "source": [
    "# ! pip install requests pandas streamlit"
   ]
  },
  {
   "cell_type": "code",
   "execution_count": 36,
   "id": "0610fa3f",
   "metadata": {},
   "outputs": [],
   "source": [
    "import requests\n",
    "\n",
    "# Your Spoonacular API Key\n",
    "API_KEY = \"709a04ae6b8d4e21ab961fdfc4f4a205\"\n",
    "BASE_URL = \"https://api.spoonacular.com/recipes/findByIngredients\""
   ]
  },
  {
   "cell_type": "code",
   "execution_count": 44,
   "id": "2aa151a1",
   "metadata": {},
   "outputs": [],
   "source": [
    "def fetch_recipes(ingredients, num_recipes=5):\n",
    "    \"\"\"\n",
    "    Fetches recipes from Spoonacular API based on input ingredients.\n",
    "    \"\"\"\n",
    "    params = {\n",
    "        \"ingredients\": \",\".join(ingredients),  # Convert list to comma-separated string\n",
    "        \"number\": num_recipes,  # Number of recipes to fetch\n",
    "        \"apiKey\": API_KEY\n",
    "    }\n",
    "    response = requests.get(BASE_URL, params=params)\n",
    "    \n",
    "    if response.status_code == 200:\n",
    "        return response.json()  # Returns JSON response\n",
    "    else:\n",
    "        print(\"Error:\", response.status_code, response.text)\n",
    "        return None"
   ]
  },
  {
   "cell_type": "code",
   "execution_count": 46,
   "id": "38b95907",
   "metadata": {},
   "outputs": [
    {
     "name": "stdout",
     "output_type": "stream",
     "text": [
      "1. Cheesy Pasta in a Pot (ID: 637670)\n",
      "2. Farfalle with fresh tomatoes, basil and mozzarella (ID: 642585)\n",
      "3. Pasta Margherita (ID: 511728)\n",
      "4. Mozzarella Pesto Salad (ID: 652508)\n",
      "5. Garden Fresh Tomato Sauce & Spaghetti (ID: 644192)\n"
     ]
    }
   ],
   "source": [
    "# Example Test Run\n",
    "test_ingredients = [\"tomato\", \"cheese\", \"pasta\"]\n",
    "recipes = fetch_recipes(test_ingredients)\n",
    "\n",
    "# Print sample results\n",
    "if recipes:\n",
    "    for idx, recipe in enumerate(recipes, 1):\n",
    "        print(f\"{idx}. {recipe['title']} (ID: {recipe['id']})\")"
   ]
  },
  {
   "cell_type": "code",
   "execution_count": 48,
   "id": "42f74aa5",
   "metadata": {},
   "outputs": [],
   "source": [
    "#### Retreiving receipe instructions for a given ID"
   ]
  },
  {
   "cell_type": "code",
   "execution_count": 50,
   "id": "43e64e7f",
   "metadata": {},
   "outputs": [
    {
     "name": "stdout",
     "output_type": "stream",
     "text": [
      "Recipe: Cheesy Pasta in a Pot\n",
      "Ingredients:\n",
      "- 2 lbs lean ground beef or turkey\n",
      "- 2 onions chopped\n",
      "- 1 garlic clove crushed\n",
      "- 1 14 oz jar spaghetti sauce\n",
      "- 1 lb can stewed tomatoes\n",
      "- 1 can sliced mushrooms\n",
      "- 8 oz shell pasta\n",
      "- 1/2 lb sliced provolone\n",
      "- 1/2 lb sliced mozzarella\n",
      "\n",
      "Instructions:\n",
      "1. Preheat oven at 350 degrees.\n",
      "2. Cook the ground meat in a little oil in a large pan stirring often.\n",
      "3. Drain fat.\n",
      "4. Add onions, garlic, spaghetti sauce, stewed tomatoes, & undrained mushrooms.\n",
      "5. Mix well.\n",
      "6. Simmer 20 mins or until onions are soft.\n",
      "7. Cook pasta according to package directons.\n",
      "8. Drain & rinse with cold water.\n",
      "9. Pour 1/2 of the shells in deep casserole.\n",
      "10. Cover with 1/2 meat sauce mixture. Top with provolone.\n",
      "11. Repeat & end with mozzarella.\n",
      "12. Cover casserole & bake at 350 for 35-40 min.\n",
      "13. Remove cover & continue baking until mozzarella melts & browns slightly, about 5 mins more.\n",
      "14. Serve.\n"
     ]
    }
   ],
   "source": [
    "def get_recipe_details(recipe_id):\n",
    "    \"\"\"\n",
    "    Fetches detailed instructions and ingredients for a given recipe ID.\n",
    "    \"\"\"\n",
    "    url = f\"https://api.spoonacular.com/recipes/{recipe_id}/information\"\n",
    "    params = {\"apiKey\": API_KEY}\n",
    "    \n",
    "    response = requests.get(url, params=params)\n",
    "    \n",
    "    if response.status_code == 200:\n",
    "        return response.json()\n",
    "    else:\n",
    "        print(\"Error:\", response.status_code, response.text)\n",
    "        return None\n",
    "\n",
    "# Example: Fetch details for the first recipe from previous output\n",
    "if recipes:\n",
    "    first_recipe_id = recipes[0][\"id\"]\n",
    "    details = get_recipe_details(first_recipe_id)\n",
    "    \n",
    "    # Print summary\n",
    "    if details:\n",
    "        print(f\"Recipe: {details['title']}\")\n",
    "        print(\"Ingredients:\")\n",
    "        for ingredient in details['extendedIngredients']:\n",
    "            print(f\"- {ingredient['original']}\")\n",
    "        print(\"\\nInstructions:\")\n",
    "        for step in details.get(\"analyzedInstructions\", [{}])[0].get(\"steps\", []):\n",
    "            print(f\"{step['number']}. {step['step']}\")"
   ]
  },
  {
   "cell_type": "code",
   "execution_count": 54,
   "id": "7862b603",
   "metadata": {},
   "outputs": [
    {
     "name": "stdout",
     "output_type": "stream",
     "text": [
      "       id                                              title  \\\n",
      "0  637670                              Cheesy Pasta in a Pot   \n",
      "1  642585  Farfalle with fresh tomatoes, basil and mozzar...   \n",
      "2  511728                                   Pasta Margherita   \n",
      "3  652508                             Mozzarella Pesto Salad   \n",
      "4  644192              Garden Fresh Tomato Sauce & Spaghetti   \n",
      "\n",
      "                                         ingredients  \n",
      "0  canned tomatoes, shell pasta, provolone, mozza...  \n",
      "1  farfalle pasta by barilla, mozzarella, tomatoe...  \n",
      "2  mozzarella cheese, grape tomatoes, linguine pa...  \n",
      "3  mozzarella cheese, cherry tomatoes, pasta see ...  \n",
      "4  romano cheese, of- spaghetti, vine tomatoes, b...  \n"
     ]
    }
   ],
   "source": [
    "def api_to_dataframe(api_response):\n",
    "    \"\"\"\n",
    "    Converts API recipe response into a structured Pandas DataFrame.\n",
    "    \"\"\"\n",
    "    recipes_list = []\n",
    "    \n",
    "    for recipe in api_response:\n",
    "        recipe_id = recipe[\"id\"]\n",
    "        title = recipe[\"title\"]\n",
    "        ingredients = \", \".join([ing[\"name\"] for ing in recipe[\"usedIngredients\"] + recipe[\"missedIngredients\"]])\n",
    "        \n",
    "        recipes_list.append([recipe_id, title, ingredients])\n",
    "    \n",
    "    # Create DataFrame\n",
    "    api_df = pd.DataFrame(recipes_list, columns=[\"id\", \"title\", \"ingredients\"])\n",
    "    return api_df\n",
    "\n",
    "# Convert API data to DataFrame\n",
    "if recipes:\n",
    "    df_api = api_to_dataframe(recipes)\n",
    "    print(df_api.head())"
   ]
  },
  {
   "cell_type": "code",
   "execution_count": 56,
   "id": "8c081057-c246-4fad-85b3-ca6e7d09f7ff",
   "metadata": {},
   "outputs": [
    {
     "data": {
      "text/html": [
       "<div>\n",
       "<style scoped>\n",
       "    .dataframe tbody tr th:only-of-type {\n",
       "        vertical-align: middle;\n",
       "    }\n",
       "\n",
       "    .dataframe tbody tr th {\n",
       "        vertical-align: top;\n",
       "    }\n",
       "\n",
       "    .dataframe thead th {\n",
       "        text-align: right;\n",
       "    }\n",
       "</style>\n",
       "<table border=\"1\" class=\"dataframe\">\n",
       "  <thead>\n",
       "    <tr style=\"text-align: right;\">\n",
       "      <th></th>\n",
       "      <th>id</th>\n",
       "      <th>title</th>\n",
       "      <th>ingredients</th>\n",
       "    </tr>\n",
       "  </thead>\n",
       "  <tbody>\n",
       "    <tr>\n",
       "      <th>0</th>\n",
       "      <td>637670</td>\n",
       "      <td>Cheesy Pasta in a Pot</td>\n",
       "      <td>canned tomatoes, shell pasta, provolone, mozza...</td>\n",
       "    </tr>\n",
       "    <tr>\n",
       "      <th>1</th>\n",
       "      <td>642585</td>\n",
       "      <td>Farfalle with fresh tomatoes, basil and mozzar...</td>\n",
       "      <td>farfalle pasta by barilla, mozzarella, tomatoe...</td>\n",
       "    </tr>\n",
       "    <tr>\n",
       "      <th>2</th>\n",
       "      <td>511728</td>\n",
       "      <td>Pasta Margherita</td>\n",
       "      <td>mozzarella cheese, grape tomatoes, linguine pa...</td>\n",
       "    </tr>\n",
       "    <tr>\n",
       "      <th>3</th>\n",
       "      <td>652508</td>\n",
       "      <td>Mozzarella Pesto Salad</td>\n",
       "      <td>mozzarella cheese, cherry tomatoes, pasta see ...</td>\n",
       "    </tr>\n",
       "    <tr>\n",
       "      <th>4</th>\n",
       "      <td>644192</td>\n",
       "      <td>Garden Fresh Tomato Sauce &amp; Spaghetti</td>\n",
       "      <td>romano cheese, of- spaghetti, vine tomatoes, b...</td>\n",
       "    </tr>\n",
       "  </tbody>\n",
       "</table>\n",
       "</div>"
      ],
      "text/plain": [
       "       id                                              title  \\\n",
       "0  637670                              Cheesy Pasta in a Pot   \n",
       "1  642585  Farfalle with fresh tomatoes, basil and mozzar...   \n",
       "2  511728                                   Pasta Margherita   \n",
       "3  652508                             Mozzarella Pesto Salad   \n",
       "4  644192              Garden Fresh Tomato Sauce & Spaghetti   \n",
       "\n",
       "                                         ingredients  \n",
       "0  canned tomatoes, shell pasta, provolone, mozza...  \n",
       "1  farfalle pasta by barilla, mozzarella, tomatoe...  \n",
       "2  mozzarella cheese, grape tomatoes, linguine pa...  \n",
       "3  mozzarella cheese, cherry tomatoes, pasta see ...  \n",
       "4  romano cheese, of- spaghetti, vine tomatoes, b...  "
      ]
     },
     "execution_count": 56,
     "metadata": {},
     "output_type": "execute_result"
    }
   ],
   "source": [
    "df_api.head()"
   ]
  },
  {
   "cell_type": "code",
   "execution_count": 64,
   "id": "11db9999-0dc3-4523-8bc1-0820b2692689",
   "metadata": {},
   "outputs": [
    {
     "name": "stdout",
     "output_type": "stream",
     "text": [
      "Index(['id', 'title', 'ingredients'], dtype='object')\n"
     ]
    }
   ],
   "source": [
    "print(df_api.columns)"
   ]
  },
  {
   "cell_type": "code",
   "execution_count": 60,
   "id": "6a261df7-6b9b-4692-8967-cdf5e2a1911c",
   "metadata": {},
   "outputs": [
    {
     "data": {
      "text/html": [
       "<div>\n",
       "<style scoped>\n",
       "    .dataframe tbody tr th:only-of-type {\n",
       "        vertical-align: middle;\n",
       "    }\n",
       "\n",
       "    .dataframe tbody tr th {\n",
       "        vertical-align: top;\n",
       "    }\n",
       "\n",
       "    .dataframe thead th {\n",
       "        text-align: right;\n",
       "    }\n",
       "</style>\n",
       "<table border=\"1\" class=\"dataframe\">\n",
       "  <thead>\n",
       "    <tr style=\"text-align: right;\">\n",
       "      <th></th>\n",
       "      <th>title</th>\n",
       "      <th>ingredients</th>\n",
       "      <th>directions</th>\n",
       "      <th>link</th>\n",
       "      <th>source</th>\n",
       "      <th>NER</th>\n",
       "    </tr>\n",
       "  </thead>\n",
       "  <tbody>\n",
       "    <tr>\n",
       "      <th>0</th>\n",
       "      <td>no-bake nut cookies</td>\n",
       "      <td>1 c. firmly packed brown sugar, 12 c. evaporat...</td>\n",
       "      <td>in a heavy 2-quart saucepan, mix brown sugar, ...</td>\n",
       "      <td>www.cookbooks.comrecipe-details.aspxid44874</td>\n",
       "      <td>gathered</td>\n",
       "      <td>brown sugar, milk, vanilla, nuts, butter, bite...</td>\n",
       "    </tr>\n",
       "    <tr>\n",
       "      <th>1</th>\n",
       "      <td>jewell balls chicken</td>\n",
       "      <td>1 small jar chipped beef, cut up, 4 boned chic...</td>\n",
       "      <td>place chipped beef on bottom of baking dish., ...</td>\n",
       "      <td>www.cookbooks.comrecipe-details.aspxid699419</td>\n",
       "      <td>gathered</td>\n",
       "      <td>beef, chicken breasts, cream of mushroom soup,...</td>\n",
       "    </tr>\n",
       "    <tr>\n",
       "      <th>2</th>\n",
       "      <td>creamy corn</td>\n",
       "      <td>2 16 oz. pkg. frozen corn, 1 8 oz. pkg. cream ...</td>\n",
       "      <td>in a slow cooker, combine all ingredients. cov...</td>\n",
       "      <td>www.cookbooks.comrecipe-details.aspxid10570</td>\n",
       "      <td>gathered</td>\n",
       "      <td>frozen corn, cream cheese, butter, garlic powd...</td>\n",
       "    </tr>\n",
       "    <tr>\n",
       "      <th>3</th>\n",
       "      <td>chicken funny</td>\n",
       "      <td>1 large whole chicken, 2 10 12 oz. cans chicke...</td>\n",
       "      <td>boil and debone chicken., put bite size pieces...</td>\n",
       "      <td>www.cookbooks.comrecipe-details.aspxid897570</td>\n",
       "      <td>gathered</td>\n",
       "      <td>chicken, chicken gravy, cream of mushroom soup...</td>\n",
       "    </tr>\n",
       "    <tr>\n",
       "      <th>4</th>\n",
       "      <td>reeses cupscandy</td>\n",
       "      <td>1 c. peanut butter, 34 c. graham cracker crumb...</td>\n",
       "      <td>combine first four ingredients and press in 13...</td>\n",
       "      <td>www.cookbooks.comrecipe-details.aspxid659239</td>\n",
       "      <td>gathered</td>\n",
       "      <td>peanut butter, graham cracker crumbs, butter, ...</td>\n",
       "    </tr>\n",
       "  </tbody>\n",
       "</table>\n",
       "</div>"
      ],
      "text/plain": [
       "                  title                                        ingredients  \\\n",
       "0   no-bake nut cookies  1 c. firmly packed brown sugar, 12 c. evaporat...   \n",
       "1  jewell balls chicken  1 small jar chipped beef, cut up, 4 boned chic...   \n",
       "2           creamy corn  2 16 oz. pkg. frozen corn, 1 8 oz. pkg. cream ...   \n",
       "3         chicken funny  1 large whole chicken, 2 10 12 oz. cans chicke...   \n",
       "4      reeses cupscandy  1 c. peanut butter, 34 c. graham cracker crumb...   \n",
       "\n",
       "                                          directions  \\\n",
       "0  in a heavy 2-quart saucepan, mix brown sugar, ...   \n",
       "1  place chipped beef on bottom of baking dish., ...   \n",
       "2  in a slow cooker, combine all ingredients. cov...   \n",
       "3  boil and debone chicken., put bite size pieces...   \n",
       "4  combine first four ingredients and press in 13...   \n",
       "\n",
       "                                           link    source  \\\n",
       "0   www.cookbooks.comrecipe-details.aspxid44874  gathered   \n",
       "1  www.cookbooks.comrecipe-details.aspxid699419  gathered   \n",
       "2   www.cookbooks.comrecipe-details.aspxid10570  gathered   \n",
       "3  www.cookbooks.comrecipe-details.aspxid897570  gathered   \n",
       "4  www.cookbooks.comrecipe-details.aspxid659239  gathered   \n",
       "\n",
       "                                                 NER  \n",
       "0  brown sugar, milk, vanilla, nuts, butter, bite...  \n",
       "1  beef, chicken breasts, cream of mushroom soup,...  \n",
       "2  frozen corn, cream cheese, butter, garlic powd...  \n",
       "3  chicken, chicken gravy, cream of mushroom soup...  \n",
       "4  peanut butter, graham cracker crumbs, butter, ...  "
      ]
     },
     "execution_count": 60,
     "metadata": {},
     "output_type": "execute_result"
    }
   ],
   "source": [
    "receipenlg.head()"
   ]
  },
  {
   "cell_type": "code",
   "execution_count": 62,
   "id": "e63a93e8-1a50-4ed2-8013-cfbe553a000b",
   "metadata": {},
   "outputs": [
    {
     "name": "stdout",
     "output_type": "stream",
     "text": [
      "Index(['title', 'ingredients', 'directions', 'link', 'source', 'NER'], dtype='object')\n"
     ]
    }
   ],
   "source": [
    "print(receipenlg.columns)"
   ]
  },
  {
   "cell_type": "markdown",
   "id": "5e31d915",
   "metadata": {},
   "source": [
    "## Data Integration"
   ]
  },
  {
   "cell_type": "code",
   "execution_count": 70,
   "id": "347645ea",
   "metadata": {},
   "outputs": [
    {
     "data": {
      "text/html": [
       "<div>\n",
       "<style scoped>\n",
       "    .dataframe tbody tr th:only-of-type {\n",
       "        vertical-align: middle;\n",
       "    }\n",
       "\n",
       "    .dataframe tbody tr th {\n",
       "        vertical-align: top;\n",
       "    }\n",
       "\n",
       "    .dataframe thead th {\n",
       "        text-align: right;\n",
       "    }\n",
       "</style>\n",
       "<table border=\"1\" class=\"dataframe\">\n",
       "  <thead>\n",
       "    <tr style=\"text-align: right;\">\n",
       "      <th></th>\n",
       "      <th>id</th>\n",
       "      <th>title</th>\n",
       "      <th>ingredients</th>\n",
       "    </tr>\n",
       "  </thead>\n",
       "  <tbody>\n",
       "    <tr>\n",
       "      <th>0</th>\n",
       "      <td>637670.0</td>\n",
       "      <td>Cheesy Pasta in a Pot</td>\n",
       "      <td>canned tomatoes, shell pasta, provolone, mozza...</td>\n",
       "    </tr>\n",
       "    <tr>\n",
       "      <th>1</th>\n",
       "      <td>642585.0</td>\n",
       "      <td>Farfalle with fresh tomatoes, basil and mozzar...</td>\n",
       "      <td>farfalle pasta by barilla, mozzarella, tomatoe...</td>\n",
       "    </tr>\n",
       "    <tr>\n",
       "      <th>2</th>\n",
       "      <td>511728.0</td>\n",
       "      <td>Pasta Margherita</td>\n",
       "      <td>mozzarella cheese, grape tomatoes, linguine pa...</td>\n",
       "    </tr>\n",
       "    <tr>\n",
       "      <th>3</th>\n",
       "      <td>652508.0</td>\n",
       "      <td>Mozzarella Pesto Salad</td>\n",
       "      <td>mozzarella cheese, cherry tomatoes, pasta see ...</td>\n",
       "    </tr>\n",
       "    <tr>\n",
       "      <th>4</th>\n",
       "      <td>644192.0</td>\n",
       "      <td>Garden Fresh Tomato Sauce &amp; Spaghetti</td>\n",
       "      <td>romano cheese, of- spaghetti, vine tomatoes, b...</td>\n",
       "    </tr>\n",
       "  </tbody>\n",
       "</table>\n",
       "</div>"
      ],
      "text/plain": [
       "         id                                              title  \\\n",
       "0  637670.0                              Cheesy Pasta in a Pot   \n",
       "1  642585.0  Farfalle with fresh tomatoes, basil and mozzar...   \n",
       "2  511728.0                                   Pasta Margherita   \n",
       "3  652508.0                             Mozzarella Pesto Salad   \n",
       "4  644192.0              Garden Fresh Tomato Sauce & Spaghetti   \n",
       "\n",
       "                                         ingredients  \n",
       "0  canned tomatoes, shell pasta, provolone, mozza...  \n",
       "1  farfalle pasta by barilla, mozzarella, tomatoe...  \n",
       "2  mozzarella cheese, grape tomatoes, linguine pa...  \n",
       "3  mozzarella cheese, cherry tomatoes, pasta see ...  \n",
       "4  romano cheese, of- spaghetti, vine tomatoes, b...  "
      ]
     },
     "execution_count": 70,
     "metadata": {},
     "output_type": "execute_result"
    }
   ],
   "source": [
    "# Ensure both DataFrames have the same structure\n",
    "receipenlg_subset = receipenlg[[\"title\", \"ingredients\"]]  # Select relevant columns\n",
    "\n",
    "# Merge the datasets\n",
    "combined_df = pd.concat([df_api, receipenlg_subset], ignore_index=True)\n",
    "\n",
    "# Check merged dataset\n",
    "combined_df.head()"
   ]
  },
  {
   "cell_type": "markdown",
   "id": "91172400",
   "metadata": {},
   "source": [
    "## Store Integrated Data in a Database"
   ]
  },
  {
   "cell_type": "code",
   "execution_count": null,
   "id": "c45f06a4",
   "metadata": {},
   "outputs": [],
   "source": [
    "import sqlite3\n",
    "\n",
    "# Connect to SQLite Database\n",
    "conn = sqlite3.connect(\"pantrypalette.db\")\n",
    "cursor = conn.cursor()\n",
    "\n",
    "# Create Table for Storing Recipes\n",
    "cursor.execute(\"\"\"\n",
    "CREATE TABLE IF NOT EXISTS recipes (\n",
    "    id INTEGER PRIMARY KEY,\n",
    "    title TEXT,\n",
    "    ingredients TEXT,\n",
    "    instructions TEXT\n",
    ")\n",
    "\"\"\")\n",
    "\n",
    "conn.commit()\n",
    "conn.close()"
   ]
  },
  {
   "cell_type": "code",
   "execution_count": null,
   "id": "a60e4b2a",
   "metadata": {},
   "outputs": [],
   "source": [
    "def save_recipe_to_db(recipe_id, title, ingredients, instructions):\n",
    "    \"\"\"\n",
    "    Saves fetched recipes to the SQLite database.\n",
    "    \"\"\"\n",
    "    conn = sqlite3.connect(\"pantrypalette.db\")\n",
    "    cursor = conn.cursor()\n",
    "\n",
    "    cursor.execute(\"INSERT INTO recipes (id, title, ingredients, instructions) VALUES (?, ?, ?, ?)\",\n",
    "                   (recipe_id, title, ingredients, instructions))\n",
    "\n",
    "    conn.commit()\n",
    "    conn.close()\n",
    "\n",
    "# Example: Save fetched recipe details\n",
    "if details:\n",
    "    ingredients_list = \", \".join([ing['original'] for ing in details['extendedIngredients']])\n",
    "    instructions_text = \"\\n\".join([step['step'] for step in details.get(\"analyzedInstructions\", [{}])[0].get(\"steps\", [])])\n",
    "\n",
    "    save_recipe_to_db(details['id'], details['title'], ingredients_list, instructions_text)\n",
    "    print(\"Recipe saved to database successfully!\")"
   ]
  }
 ],
 "metadata": {
  "kernelspec": {
   "display_name": "Python [conda env:base] *",
   "language": "python",
   "name": "conda-base-py"
  },
  "language_info": {
   "codemirror_mode": {
    "name": "ipython",
    "version": 3
   },
   "file_extension": ".py",
   "mimetype": "text/x-python",
   "name": "python",
   "nbconvert_exporter": "python",
   "pygments_lexer": "ipython3",
   "version": "3.12.8"
  }
 },
 "nbformat": 4,
 "nbformat_minor": 5
}
